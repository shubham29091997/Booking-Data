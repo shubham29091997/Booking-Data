{
  "nbformat": 4,
  "nbformat_minor": 0,
  "metadata": {
    "colab": {
      "name": "Assignment.ipynb",
      "provenance": [],
      "authorship_tag": "ABX9TyNor+s7yTWk+4sbDfYgH662"
    },
    "kernelspec": {
      "name": "python3",
      "display_name": "Python 3"
    }
  },
  "cells": [
    {
      "cell_type": "code",
      "metadata": {
        "id": "fs73ld3Iu_BX"
      },
      "source": [
        "import numpy as np\n",
        "import pandas as pd\n",
        "import matplotlib.pyplot as plt\n",
        "import seaborn as sns\n",
        "import datetime"
      ],
      "execution_count": 2,
      "outputs": []
    },
    {
      "cell_type": "code",
      "metadata": {
        "id": "PYn74aavwJeT",
        "outputId": "c5170b09-937c-41fc-b78d-358bd058293d",
        "colab": {
          "base_uri": "https://localhost:8080/",
          "height": 1000
        }
      },
      "source": [
        "df = pd.read_excel('/content/Bookings data.xlsx')\n",
        "df"
      ],
      "execution_count": 7,
      "outputs": [
        {
          "output_type": "execute_result",
          "data": {
            "text/html": [
              "<div>\n",
              "<style scoped>\n",
              "    .dataframe tbody tr th:only-of-type {\n",
              "        vertical-align: middle;\n",
              "    }\n",
              "\n",
              "    .dataframe tbody tr th {\n",
              "        vertical-align: top;\n",
              "    }\n",
              "\n",
              "    .dataframe thead th {\n",
              "        text-align: right;\n",
              "    }\n",
              "</style>\n",
              "<table border=\"1\" class=\"dataframe\">\n",
              "  <thead>\n",
              "    <tr style=\"text-align: right;\">\n",
              "      <th></th>\n",
              "      <th>Date</th>\n",
              "      <th>Time</th>\n",
              "      <th>First Name</th>\n",
              "      <th>Last Name</th>\n",
              "      <th>Full Name</th>\n",
              "      <th>Company Name</th>\n",
              "      <th>City</th>\n",
              "      <th>State</th>\n",
              "      <th>Postal Code</th>\n",
              "      <th>Location</th>\n",
              "      <th>Rating Value</th>\n",
              "      <th>Rating Comment</th>\n",
              "      <th>Service Total</th>\n",
              "      <th>Extras Total</th>\n",
              "      <th>Final Amount</th>\n",
              "      <th>Amount Paid by the Customer</th>\n",
              "      <th>Amount Owed by Customer</th>\n",
              "      <th>Tip</th>\n",
              "      <th>Payment Method</th>\n",
              "      <th>Frequency</th>\n",
              "      <th>Discount Code</th>\n",
              "      <th>Discount from Code</th>\n",
              "      <th>Discount from Frequency</th>\n",
              "      <th>Discount from Referral</th>\n",
              "      <th>Giftcard Amount Used</th>\n",
              "      <th>Teams Assigned</th>\n",
              "      <th>Teams Assigned  (without IDs)</th>\n",
              "      <th>Team Earnings (Amount)</th>\n",
              "      <th>Team Earnings (Summary)</th>\n",
              "      <th>Team has Key</th>\n",
              "      <th>Team requested</th>\n",
              "      <th>Date Created</th>\n",
              "      <th>Created By</th>\n",
              "      <th>Next Booking Date</th>\n",
              "      <th>Services</th>\n",
              "      <th>Staff Notes</th>\n",
              "      <th>Customer Notes</th>\n",
              "      <th>Booking ID</th>\n",
              "    </tr>\n",
              "  </thead>\n",
              "  <tbody>\n",
              "    <tr>\n",
              "      <th>0</th>\n",
              "      <td>2015-08-05</td>\n",
              "      <td>9:00am</td>\n",
              "      <td>Rebecca</td>\n",
              "      <td>Jenkins</td>\n",
              "      <td>Rebecca Jenkins</td>\n",
              "      <td>NaN</td>\n",
              "      <td>Crows Nest</td>\n",
              "      <td>NSW</td>\n",
              "      <td>2065</td>\n",
              "      <td>Location_2</td>\n",
              "      <td>2.0</td>\n",
              "      <td>We really liked the attitude of our team and t...</td>\n",
              "      <td>142.0</td>\n",
              "      <td>0</td>\n",
              "      <td>113.60</td>\n",
              "      <td>113.60</td>\n",
              "      <td>0.0</td>\n",
              "      <td>0</td>\n",
              "      <td>stripe</td>\n",
              "      <td>Every week - 20% off</td>\n",
              "      <td>NaN</td>\n",
              "      <td>0.0</td>\n",
              "      <td>28.40</td>\n",
              "      <td>0</td>\n",
              "      <td>0</td>\n",
              "      <td>5: Team Kawhara (G)</td>\n",
              "      <td>Team Kawhara (G)</td>\n",
              "      <td>68.16</td>\n",
              "      <td>Team Kawhara (G): 68.16</td>\n",
              "      <td>NaN</td>\n",
              "      <td>NaN</td>\n",
              "      <td>31/07/2015 5:06pm</td>\n",
              "      <td>NaN</td>\n",
              "      <td>12/08/2015 9:00am</td>\n",
              "      <td>2 Bedrooms, 1 x Bathroom</td>\n",
              "      <td>NaN</td>\n",
              "      <td>NaN</td>\n",
              "      <td>2</td>\n",
              "    </tr>\n",
              "    <tr>\n",
              "      <th>1</th>\n",
              "      <td>2015-08-08</td>\n",
              "      <td>9:30am</td>\n",
              "      <td>Lauren</td>\n",
              "      <td>Goss</td>\n",
              "      <td>Lauren Goss</td>\n",
              "      <td>NaN</td>\n",
              "      <td>Cremorne</td>\n",
              "      <td>NSW</td>\n",
              "      <td>2090</td>\n",
              "      <td>Location_2</td>\n",
              "      <td>NaN</td>\n",
              "      <td>NaN</td>\n",
              "      <td>122.0</td>\n",
              "      <td>30</td>\n",
              "      <td>119.00</td>\n",
              "      <td>119.00</td>\n",
              "      <td>0.0</td>\n",
              "      <td>0</td>\n",
              "      <td>stripe</td>\n",
              "      <td>1 time service</td>\n",
              "      <td>NaN</td>\n",
              "      <td>0.0</td>\n",
              "      <td>0.00</td>\n",
              "      <td>0</td>\n",
              "      <td>0</td>\n",
              "      <td>5: Team Kawhara (G)</td>\n",
              "      <td>Team Kawhara (G)</td>\n",
              "      <td>71.40</td>\n",
              "      <td>Team Kawhara (G): 71.40</td>\n",
              "      <td>NaN</td>\n",
              "      <td>NaN</td>\n",
              "      <td>06/08/2015 7:07pm</td>\n",
              "      <td>NaN</td>\n",
              "      <td>NaN</td>\n",
              "      <td>1 Bedroom, 1 x Bathroom, 1 x Inside the oven +$30</td>\n",
              "      <td>Balcony cleaned as well. call the customers 20...</td>\n",
              "      <td>NaN</td>\n",
              "      <td>5</td>\n",
              "    </tr>\n",
              "    <tr>\n",
              "      <th>2</th>\n",
              "      <td>2015-08-12</td>\n",
              "      <td>9:00am</td>\n",
              "      <td>Rebecca</td>\n",
              "      <td>Jenkins</td>\n",
              "      <td>Rebecca Jenkins</td>\n",
              "      <td>NaN</td>\n",
              "      <td>Crows Nest</td>\n",
              "      <td>NSW</td>\n",
              "      <td>2065</td>\n",
              "      <td>Location_2</td>\n",
              "      <td>2.0</td>\n",
              "      <td>Our team did a v thorough job. Thank you.</td>\n",
              "      <td>142.0</td>\n",
              "      <td>0</td>\n",
              "      <td>113.60</td>\n",
              "      <td>113.60</td>\n",
              "      <td>0.0</td>\n",
              "      <td>0</td>\n",
              "      <td>stripe</td>\n",
              "      <td>Every week - 20% off</td>\n",
              "      <td>NaN</td>\n",
              "      <td>0.0</td>\n",
              "      <td>28.40</td>\n",
              "      <td>0</td>\n",
              "      <td>0</td>\n",
              "      <td>5: Team Kawhara (G)</td>\n",
              "      <td>Team Kawhara (G)</td>\n",
              "      <td>68.16</td>\n",
              "      <td>Team Kawhara (G): 68.16</td>\n",
              "      <td>Team Kawhara (G)</td>\n",
              "      <td>NaN</td>\n",
              "      <td>06/08/2015 12:28am</td>\n",
              "      <td>NaN</td>\n",
              "      <td>19/08/2015 9:00am</td>\n",
              "      <td>2 Bedrooms, 1 x Bathroom</td>\n",
              "      <td>Customer has left the key inside an envelope i...</td>\n",
              "      <td>NaN</td>\n",
              "      <td>4</td>\n",
              "    </tr>\n",
              "    <tr>\n",
              "      <th>3</th>\n",
              "      <td>2015-08-14</td>\n",
              "      <td>3:00pm</td>\n",
              "      <td>David</td>\n",
              "      <td>Shellien</td>\n",
              "      <td>David Shellien</td>\n",
              "      <td>NaN</td>\n",
              "      <td>LANE COVE</td>\n",
              "      <td>NSW</td>\n",
              "      <td>2066</td>\n",
              "      <td>Location_2</td>\n",
              "      <td>NaN</td>\n",
              "      <td>NaN</td>\n",
              "      <td>162.0</td>\n",
              "      <td>0</td>\n",
              "      <td>162.00</td>\n",
              "      <td>162.00</td>\n",
              "      <td>0.0</td>\n",
              "      <td>0</td>\n",
              "      <td>stripe</td>\n",
              "      <td>1 time service</td>\n",
              "      <td>NaN</td>\n",
              "      <td>0.0</td>\n",
              "      <td>0.00</td>\n",
              "      <td>0</td>\n",
              "      <td>0</td>\n",
              "      <td>5: Team Kawhara (G)</td>\n",
              "      <td>Team Kawhara (G)</td>\n",
              "      <td>97.20</td>\n",
              "      <td>Team Kawhara (G): 97.20</td>\n",
              "      <td>NaN</td>\n",
              "      <td>NaN</td>\n",
              "      <td>13/08/2015 3:50pm</td>\n",
              "      <td>NaN</td>\n",
              "      <td>NaN</td>\n",
              "      <td>3 Bedrooms, 1 x Bathroom</td>\n",
              "      <td>NaN</td>\n",
              "      <td>NaN</td>\n",
              "      <td>8</td>\n",
              "    </tr>\n",
              "    <tr>\n",
              "      <th>4</th>\n",
              "      <td>2015-08-18</td>\n",
              "      <td>9:00am</td>\n",
              "      <td>Branko</td>\n",
              "      <td>Dedich</td>\n",
              "      <td>Branko Dedich</td>\n",
              "      <td>NaN</td>\n",
              "      <td>Gladesville</td>\n",
              "      <td>NSW</td>\n",
              "      <td>2111</td>\n",
              "      <td>Location_2</td>\n",
              "      <td>1.0</td>\n",
              "      <td>NaN</td>\n",
              "      <td>122.0</td>\n",
              "      <td>169</td>\n",
              "      <td>250.00</td>\n",
              "      <td>250.00</td>\n",
              "      <td>0.0</td>\n",
              "      <td>0</td>\n",
              "      <td>stripe</td>\n",
              "      <td>1 time service</td>\n",
              "      <td>NaN</td>\n",
              "      <td>0.0</td>\n",
              "      <td>0.00</td>\n",
              "      <td>0</td>\n",
              "      <td>0</td>\n",
              "      <td>5: Team Kawhara (G)</td>\n",
              "      <td>Team Kawhara (G)</td>\n",
              "      <td>150.00</td>\n",
              "      <td>Team Kawhara (G): 150.00</td>\n",
              "      <td>NaN</td>\n",
              "      <td>NaN</td>\n",
              "      <td>12/08/2015 3:16pm</td>\n",
              "      <td>NaN</td>\n",
              "      <td>NaN</td>\n",
              "      <td>1 Bedroom, 1 x Bathroom, Inside kitchen cabine...</td>\n",
              "      <td>Branko will be onsite during clean\\n\\nJob Deta...</td>\n",
              "      <td>NaN</td>\n",
              "      <td>6</td>\n",
              "    </tr>\n",
              "    <tr>\n",
              "      <th>...</th>\n",
              "      <td>...</td>\n",
              "      <td>...</td>\n",
              "      <td>...</td>\n",
              "      <td>...</td>\n",
              "      <td>...</td>\n",
              "      <td>...</td>\n",
              "      <td>...</td>\n",
              "      <td>...</td>\n",
              "      <td>...</td>\n",
              "      <td>...</td>\n",
              "      <td>...</td>\n",
              "      <td>...</td>\n",
              "      <td>...</td>\n",
              "      <td>...</td>\n",
              "      <td>...</td>\n",
              "      <td>...</td>\n",
              "      <td>...</td>\n",
              "      <td>...</td>\n",
              "      <td>...</td>\n",
              "      <td>...</td>\n",
              "      <td>...</td>\n",
              "      <td>...</td>\n",
              "      <td>...</td>\n",
              "      <td>...</td>\n",
              "      <td>...</td>\n",
              "      <td>...</td>\n",
              "      <td>...</td>\n",
              "      <td>...</td>\n",
              "      <td>...</td>\n",
              "      <td>...</td>\n",
              "      <td>...</td>\n",
              "      <td>...</td>\n",
              "      <td>...</td>\n",
              "      <td>...</td>\n",
              "      <td>...</td>\n",
              "      <td>...</td>\n",
              "      <td>...</td>\n",
              "      <td>...</td>\n",
              "    </tr>\n",
              "    <tr>\n",
              "      <th>5604</th>\n",
              "      <td>2018-06-30</td>\n",
              "      <td>1:00pm</td>\n",
              "      <td>yvonne</td>\n",
              "      <td>chong</td>\n",
              "      <td>yvonne chong</td>\n",
              "      <td>NaN</td>\n",
              "      <td>Location_3</td>\n",
              "      <td>VIC</td>\n",
              "      <td>3033</td>\n",
              "      <td>Location_3</td>\n",
              "      <td>NaN</td>\n",
              "      <td>NaN</td>\n",
              "      <td>209.0</td>\n",
              "      <td>147</td>\n",
              "      <td>356.00</td>\n",
              "      <td>356.00</td>\n",
              "      <td>0.0</td>\n",
              "      <td>0</td>\n",
              "      <td>stripe</td>\n",
              "      <td>1 time service</td>\n",
              "      <td>NaN</td>\n",
              "      <td>0.0</td>\n",
              "      <td>0.00</td>\n",
              "      <td>0</td>\n",
              "      <td>0</td>\n",
              "      <td>1926: Team Dimpal (2P, I)</td>\n",
              "      <td>Team Dimpal (2P, I)</td>\n",
              "      <td>213.60</td>\n",
              "      <td>Team Dimpal (2P, I): 213.60</td>\n",
              "      <td>NaN</td>\n",
              "      <td>NaN</td>\n",
              "      <td>28/06/2018 2:49pm</td>\n",
              "      <td>NaN</td>\n",
              "      <td>NaN</td>\n",
              "      <td>3 Bedrooms, 3 x Bathroom, deep/initial cleanin...</td>\n",
              "      <td>30/06 deep clean, inside windows and balcony p...</td>\n",
              "      <td>NaN</td>\n",
              "      <td>7523</td>\n",
              "    </tr>\n",
              "    <tr>\n",
              "      <th>5605</th>\n",
              "      <td>2018-06-30</td>\n",
              "      <td>1:00pm</td>\n",
              "      <td>Allan</td>\n",
              "      <td>Springall</td>\n",
              "      <td>Allan Springall</td>\n",
              "      <td>NaN</td>\n",
              "      <td>Chifley</td>\n",
              "      <td>NSW</td>\n",
              "      <td>2035</td>\n",
              "      <td>Location_2</td>\n",
              "      <td>NaN</td>\n",
              "      <td>NaN</td>\n",
              "      <td>129.0</td>\n",
              "      <td>199</td>\n",
              "      <td>328.00</td>\n",
              "      <td>328.00</td>\n",
              "      <td>0.0</td>\n",
              "      <td>0</td>\n",
              "      <td>stripe</td>\n",
              "      <td>1 time service</td>\n",
              "      <td>NaN</td>\n",
              "      <td>0.0</td>\n",
              "      <td>0.00</td>\n",
              "      <td>0</td>\n",
              "      <td>0</td>\n",
              "      <td>214: Team Jackson (4T, G)</td>\n",
              "      <td>Team Jackson (4T, G)</td>\n",
              "      <td>213.20</td>\n",
              "      <td>Team Jackson (4T, G): 213.20</td>\n",
              "      <td>Team Jackson (4T, G)</td>\n",
              "      <td>Team Jackson (4T, G)</td>\n",
              "      <td>29/06/2018 2:26pm</td>\n",
              "      <td>NaN</td>\n",
              "      <td>NaN</td>\n",
              "      <td>1 Bedroom, 1 x Bathroom, deep/initial cleaning...</td>\n",
              "      <td>Bathroom is a disability bathroom.  Customer i...</td>\n",
              "      <td>NaN</td>\n",
              "      <td>7541</td>\n",
              "    </tr>\n",
              "    <tr>\n",
              "      <th>5606</th>\n",
              "      <td>2018-06-30</td>\n",
              "      <td>3:00pm</td>\n",
              "      <td>Maya</td>\n",
              "      <td>Wannan</td>\n",
              "      <td>Maya Wannan</td>\n",
              "      <td>NaN</td>\n",
              "      <td>Pyrmont</td>\n",
              "      <td>NSW</td>\n",
              "      <td>2009</td>\n",
              "      <td>Location_2</td>\n",
              "      <td>NaN</td>\n",
              "      <td>NaN</td>\n",
              "      <td>169.0</td>\n",
              "      <td>0</td>\n",
              "      <td>143.65</td>\n",
              "      <td>143.65</td>\n",
              "      <td>0.0</td>\n",
              "      <td>0</td>\n",
              "      <td>stripe</td>\n",
              "      <td>Fortnightly - 15% off</td>\n",
              "      <td>NaN</td>\n",
              "      <td>0.0</td>\n",
              "      <td>25.35</td>\n",
              "      <td>0</td>\n",
              "      <td>0</td>\n",
              "      <td>626: Team Natalie</td>\n",
              "      <td>Team Natalie</td>\n",
              "      <td>93.37</td>\n",
              "      <td>Team Natalie: 93.37</td>\n",
              "      <td>NaN</td>\n",
              "      <td>NaN</td>\n",
              "      <td>06/06/2018 12:25pm</td>\n",
              "      <td>NaN</td>\n",
              "      <td>14/07/2018 3:00pm</td>\n",
              "      <td>2 Bedrooms, 2 x Bathroom</td>\n",
              "      <td>NaN</td>\n",
              "      <td>If possible, we would like the same cleaner as...</td>\n",
              "      <td>7067</td>\n",
              "    </tr>\n",
              "    <tr>\n",
              "      <th>5607</th>\n",
              "      <td>2018-06-30</td>\n",
              "      <td>3:00pm</td>\n",
              "      <td>Jordan</td>\n",
              "      <td>Miralis</td>\n",
              "      <td>Jordan Miralis</td>\n",
              "      <td>NaN</td>\n",
              "      <td>South Yarra</td>\n",
              "      <td>VIC</td>\n",
              "      <td>3141</td>\n",
              "      <td>Location_3</td>\n",
              "      <td>NaN</td>\n",
              "      <td>NaN</td>\n",
              "      <td>129.0</td>\n",
              "      <td>0</td>\n",
              "      <td>129.00</td>\n",
              "      <td>129.00</td>\n",
              "      <td>0.0</td>\n",
              "      <td>0</td>\n",
              "      <td>stripe</td>\n",
              "      <td>1 time service</td>\n",
              "      <td>NaN</td>\n",
              "      <td>0.0</td>\n",
              "      <td>0.00</td>\n",
              "      <td>0</td>\n",
              "      <td>0</td>\n",
              "      <td>1926: Team Dimpal (2P, I)</td>\n",
              "      <td>Team Dimpal (2P, I)</td>\n",
              "      <td>77.40</td>\n",
              "      <td>Team Dimpal (2P, I): 77.40</td>\n",
              "      <td>NaN</td>\n",
              "      <td>NaN</td>\n",
              "      <td>29/06/2018 1:19pm</td>\n",
              "      <td>NaN</td>\n",
              "      <td>NaN</td>\n",
              "      <td>1 Bedroom, 1 x Bathroom</td>\n",
              "      <td>NaN</td>\n",
              "      <td>Just need a dust/wipe down, very small bathroo...</td>\n",
              "      <td>7540</td>\n",
              "    </tr>\n",
              "    <tr>\n",
              "      <th>5608</th>\n",
              "      <td>2018-07-01</td>\n",
              "      <td>10:00am</td>\n",
              "      <td>Ellyse</td>\n",
              "      <td>Toomua</td>\n",
              "      <td>Ellyse Toomua</td>\n",
              "      <td>NaN</td>\n",
              "      <td>Chatswood</td>\n",
              "      <td>NSW</td>\n",
              "      <td>2067</td>\n",
              "      <td>Location_2</td>\n",
              "      <td>NaN</td>\n",
              "      <td>NaN</td>\n",
              "      <td>229.0</td>\n",
              "      <td>0</td>\n",
              "      <td>206.10</td>\n",
              "      <td>206.10</td>\n",
              "      <td>0.0</td>\n",
              "      <td>0</td>\n",
              "      <td>stripe</td>\n",
              "      <td>Monthly - 10% off</td>\n",
              "      <td>NaN</td>\n",
              "      <td>0.0</td>\n",
              "      <td>22.90</td>\n",
              "      <td>0</td>\n",
              "      <td>0</td>\n",
              "      <td>626: Team Natalie</td>\n",
              "      <td>Team Natalie</td>\n",
              "      <td>133.97</td>\n",
              "      <td>Team Natalie: 133.97</td>\n",
              "      <td>NaN</td>\n",
              "      <td>NaN</td>\n",
              "      <td>03/06/2018 12:18am</td>\n",
              "      <td>NaN</td>\n",
              "      <td>29/07/2018 10:00am</td>\n",
              "      <td>4 Bedrooms, 2 x Bathroom</td>\n",
              "      <td>NaN</td>\n",
              "      <td>Could I please request Michael and Nat - 04099...</td>\n",
              "      <td>7007</td>\n",
              "    </tr>\n",
              "  </tbody>\n",
              "</table>\n",
              "<p>5609 rows × 38 columns</p>\n",
              "</div>"
            ],
            "text/plain": [
              "           Date  ... Booking ID\n",
              "0    2015-08-05  ...          2\n",
              "1    2015-08-08  ...          5\n",
              "2    2015-08-12  ...          4\n",
              "3    2015-08-14  ...          8\n",
              "4    2015-08-18  ...          6\n",
              "...         ...  ...        ...\n",
              "5604 2018-06-30  ...       7523\n",
              "5605 2018-06-30  ...       7541\n",
              "5606 2018-06-30  ...       7067\n",
              "5607 2018-06-30  ...       7540\n",
              "5608 2018-07-01  ...       7007\n",
              "\n",
              "[5609 rows x 38 columns]"
            ]
          },
          "metadata": {
            "tags": []
          },
          "execution_count": 7
        }
      ]
    },
    {
      "cell_type": "code",
      "metadata": {
        "id": "x5qUCgsowa76",
        "outputId": "d426b042-5892-45a8-9bab-f8ba0233e08d",
        "colab": {
          "base_uri": "https://localhost:8080/",
          "height": 1000
        }
      },
      "source": [
        "df['year'] = pd.DatetimeIndex(df['Date']).year\n",
        "df"
      ],
      "execution_count": 9,
      "outputs": [
        {
          "output_type": "execute_result",
          "data": {
            "text/html": [
              "<div>\n",
              "<style scoped>\n",
              "    .dataframe tbody tr th:only-of-type {\n",
              "        vertical-align: middle;\n",
              "    }\n",
              "\n",
              "    .dataframe tbody tr th {\n",
              "        vertical-align: top;\n",
              "    }\n",
              "\n",
              "    .dataframe thead th {\n",
              "        text-align: right;\n",
              "    }\n",
              "</style>\n",
              "<table border=\"1\" class=\"dataframe\">\n",
              "  <thead>\n",
              "    <tr style=\"text-align: right;\">\n",
              "      <th></th>\n",
              "      <th>Date</th>\n",
              "      <th>Time</th>\n",
              "      <th>First Name</th>\n",
              "      <th>Last Name</th>\n",
              "      <th>Full Name</th>\n",
              "      <th>Company Name</th>\n",
              "      <th>City</th>\n",
              "      <th>State</th>\n",
              "      <th>Postal Code</th>\n",
              "      <th>Location</th>\n",
              "      <th>Rating Value</th>\n",
              "      <th>Rating Comment</th>\n",
              "      <th>Service Total</th>\n",
              "      <th>Extras Total</th>\n",
              "      <th>Final Amount</th>\n",
              "      <th>Amount Paid by the Customer</th>\n",
              "      <th>Amount Owed by Customer</th>\n",
              "      <th>Tip</th>\n",
              "      <th>Payment Method</th>\n",
              "      <th>Frequency</th>\n",
              "      <th>Discount Code</th>\n",
              "      <th>Discount from Code</th>\n",
              "      <th>Discount from Frequency</th>\n",
              "      <th>Discount from Referral</th>\n",
              "      <th>Giftcard Amount Used</th>\n",
              "      <th>Teams Assigned</th>\n",
              "      <th>Teams Assigned  (without IDs)</th>\n",
              "      <th>Team Earnings (Amount)</th>\n",
              "      <th>Team Earnings (Summary)</th>\n",
              "      <th>Team has Key</th>\n",
              "      <th>Team requested</th>\n",
              "      <th>Date Created</th>\n",
              "      <th>Created By</th>\n",
              "      <th>Next Booking Date</th>\n",
              "      <th>Services</th>\n",
              "      <th>Staff Notes</th>\n",
              "      <th>Customer Notes</th>\n",
              "      <th>Booking ID</th>\n",
              "      <th>year</th>\n",
              "    </tr>\n",
              "  </thead>\n",
              "  <tbody>\n",
              "    <tr>\n",
              "      <th>0</th>\n",
              "      <td>2015-08-05</td>\n",
              "      <td>9:00am</td>\n",
              "      <td>Rebecca</td>\n",
              "      <td>Jenkins</td>\n",
              "      <td>Rebecca Jenkins</td>\n",
              "      <td>NaN</td>\n",
              "      <td>Crows Nest</td>\n",
              "      <td>NSW</td>\n",
              "      <td>2065</td>\n",
              "      <td>Location_2</td>\n",
              "      <td>2.0</td>\n",
              "      <td>We really liked the attitude of our team and t...</td>\n",
              "      <td>142.0</td>\n",
              "      <td>0</td>\n",
              "      <td>113.60</td>\n",
              "      <td>113.60</td>\n",
              "      <td>0.0</td>\n",
              "      <td>0</td>\n",
              "      <td>stripe</td>\n",
              "      <td>Every week - 20% off</td>\n",
              "      <td>NaN</td>\n",
              "      <td>0.0</td>\n",
              "      <td>28.40</td>\n",
              "      <td>0</td>\n",
              "      <td>0</td>\n",
              "      <td>5: Team Kawhara (G)</td>\n",
              "      <td>Team Kawhara (G)</td>\n",
              "      <td>68.16</td>\n",
              "      <td>Team Kawhara (G): 68.16</td>\n",
              "      <td>NaN</td>\n",
              "      <td>NaN</td>\n",
              "      <td>31/07/2015 5:06pm</td>\n",
              "      <td>NaN</td>\n",
              "      <td>12/08/2015 9:00am</td>\n",
              "      <td>2 Bedrooms, 1 x Bathroom</td>\n",
              "      <td>NaN</td>\n",
              "      <td>NaN</td>\n",
              "      <td>2</td>\n",
              "      <td>2015</td>\n",
              "    </tr>\n",
              "    <tr>\n",
              "      <th>1</th>\n",
              "      <td>2015-08-08</td>\n",
              "      <td>9:30am</td>\n",
              "      <td>Lauren</td>\n",
              "      <td>Goss</td>\n",
              "      <td>Lauren Goss</td>\n",
              "      <td>NaN</td>\n",
              "      <td>Cremorne</td>\n",
              "      <td>NSW</td>\n",
              "      <td>2090</td>\n",
              "      <td>Location_2</td>\n",
              "      <td>NaN</td>\n",
              "      <td>NaN</td>\n",
              "      <td>122.0</td>\n",
              "      <td>30</td>\n",
              "      <td>119.00</td>\n",
              "      <td>119.00</td>\n",
              "      <td>0.0</td>\n",
              "      <td>0</td>\n",
              "      <td>stripe</td>\n",
              "      <td>1 time service</td>\n",
              "      <td>NaN</td>\n",
              "      <td>0.0</td>\n",
              "      <td>0.00</td>\n",
              "      <td>0</td>\n",
              "      <td>0</td>\n",
              "      <td>5: Team Kawhara (G)</td>\n",
              "      <td>Team Kawhara (G)</td>\n",
              "      <td>71.40</td>\n",
              "      <td>Team Kawhara (G): 71.40</td>\n",
              "      <td>NaN</td>\n",
              "      <td>NaN</td>\n",
              "      <td>06/08/2015 7:07pm</td>\n",
              "      <td>NaN</td>\n",
              "      <td>NaN</td>\n",
              "      <td>1 Bedroom, 1 x Bathroom, 1 x Inside the oven +$30</td>\n",
              "      <td>Balcony cleaned as well. call the customers 20...</td>\n",
              "      <td>NaN</td>\n",
              "      <td>5</td>\n",
              "      <td>2015</td>\n",
              "    </tr>\n",
              "    <tr>\n",
              "      <th>2</th>\n",
              "      <td>2015-08-12</td>\n",
              "      <td>9:00am</td>\n",
              "      <td>Rebecca</td>\n",
              "      <td>Jenkins</td>\n",
              "      <td>Rebecca Jenkins</td>\n",
              "      <td>NaN</td>\n",
              "      <td>Crows Nest</td>\n",
              "      <td>NSW</td>\n",
              "      <td>2065</td>\n",
              "      <td>Location_2</td>\n",
              "      <td>2.0</td>\n",
              "      <td>Our team did a v thorough job. Thank you.</td>\n",
              "      <td>142.0</td>\n",
              "      <td>0</td>\n",
              "      <td>113.60</td>\n",
              "      <td>113.60</td>\n",
              "      <td>0.0</td>\n",
              "      <td>0</td>\n",
              "      <td>stripe</td>\n",
              "      <td>Every week - 20% off</td>\n",
              "      <td>NaN</td>\n",
              "      <td>0.0</td>\n",
              "      <td>28.40</td>\n",
              "      <td>0</td>\n",
              "      <td>0</td>\n",
              "      <td>5: Team Kawhara (G)</td>\n",
              "      <td>Team Kawhara (G)</td>\n",
              "      <td>68.16</td>\n",
              "      <td>Team Kawhara (G): 68.16</td>\n",
              "      <td>Team Kawhara (G)</td>\n",
              "      <td>NaN</td>\n",
              "      <td>06/08/2015 12:28am</td>\n",
              "      <td>NaN</td>\n",
              "      <td>19/08/2015 9:00am</td>\n",
              "      <td>2 Bedrooms, 1 x Bathroom</td>\n",
              "      <td>Customer has left the key inside an envelope i...</td>\n",
              "      <td>NaN</td>\n",
              "      <td>4</td>\n",
              "      <td>2015</td>\n",
              "    </tr>\n",
              "    <tr>\n",
              "      <th>3</th>\n",
              "      <td>2015-08-14</td>\n",
              "      <td>3:00pm</td>\n",
              "      <td>David</td>\n",
              "      <td>Shellien</td>\n",
              "      <td>David Shellien</td>\n",
              "      <td>NaN</td>\n",
              "      <td>LANE COVE</td>\n",
              "      <td>NSW</td>\n",
              "      <td>2066</td>\n",
              "      <td>Location_2</td>\n",
              "      <td>NaN</td>\n",
              "      <td>NaN</td>\n",
              "      <td>162.0</td>\n",
              "      <td>0</td>\n",
              "      <td>162.00</td>\n",
              "      <td>162.00</td>\n",
              "      <td>0.0</td>\n",
              "      <td>0</td>\n",
              "      <td>stripe</td>\n",
              "      <td>1 time service</td>\n",
              "      <td>NaN</td>\n",
              "      <td>0.0</td>\n",
              "      <td>0.00</td>\n",
              "      <td>0</td>\n",
              "      <td>0</td>\n",
              "      <td>5: Team Kawhara (G)</td>\n",
              "      <td>Team Kawhara (G)</td>\n",
              "      <td>97.20</td>\n",
              "      <td>Team Kawhara (G): 97.20</td>\n",
              "      <td>NaN</td>\n",
              "      <td>NaN</td>\n",
              "      <td>13/08/2015 3:50pm</td>\n",
              "      <td>NaN</td>\n",
              "      <td>NaN</td>\n",
              "      <td>3 Bedrooms, 1 x Bathroom</td>\n",
              "      <td>NaN</td>\n",
              "      <td>NaN</td>\n",
              "      <td>8</td>\n",
              "      <td>2015</td>\n",
              "    </tr>\n",
              "    <tr>\n",
              "      <th>4</th>\n",
              "      <td>2015-08-18</td>\n",
              "      <td>9:00am</td>\n",
              "      <td>Branko</td>\n",
              "      <td>Dedich</td>\n",
              "      <td>Branko Dedich</td>\n",
              "      <td>NaN</td>\n",
              "      <td>Gladesville</td>\n",
              "      <td>NSW</td>\n",
              "      <td>2111</td>\n",
              "      <td>Location_2</td>\n",
              "      <td>1.0</td>\n",
              "      <td>NaN</td>\n",
              "      <td>122.0</td>\n",
              "      <td>169</td>\n",
              "      <td>250.00</td>\n",
              "      <td>250.00</td>\n",
              "      <td>0.0</td>\n",
              "      <td>0</td>\n",
              "      <td>stripe</td>\n",
              "      <td>1 time service</td>\n",
              "      <td>NaN</td>\n",
              "      <td>0.0</td>\n",
              "      <td>0.00</td>\n",
              "      <td>0</td>\n",
              "      <td>0</td>\n",
              "      <td>5: Team Kawhara (G)</td>\n",
              "      <td>Team Kawhara (G)</td>\n",
              "      <td>150.00</td>\n",
              "      <td>Team Kawhara (G): 150.00</td>\n",
              "      <td>NaN</td>\n",
              "      <td>NaN</td>\n",
              "      <td>12/08/2015 3:16pm</td>\n",
              "      <td>NaN</td>\n",
              "      <td>NaN</td>\n",
              "      <td>1 Bedroom, 1 x Bathroom, Inside kitchen cabine...</td>\n",
              "      <td>Branko will be onsite during clean\\n\\nJob Deta...</td>\n",
              "      <td>NaN</td>\n",
              "      <td>6</td>\n",
              "      <td>2015</td>\n",
              "    </tr>\n",
              "    <tr>\n",
              "      <th>...</th>\n",
              "      <td>...</td>\n",
              "      <td>...</td>\n",
              "      <td>...</td>\n",
              "      <td>...</td>\n",
              "      <td>...</td>\n",
              "      <td>...</td>\n",
              "      <td>...</td>\n",
              "      <td>...</td>\n",
              "      <td>...</td>\n",
              "      <td>...</td>\n",
              "      <td>...</td>\n",
              "      <td>...</td>\n",
              "      <td>...</td>\n",
              "      <td>...</td>\n",
              "      <td>...</td>\n",
              "      <td>...</td>\n",
              "      <td>...</td>\n",
              "      <td>...</td>\n",
              "      <td>...</td>\n",
              "      <td>...</td>\n",
              "      <td>...</td>\n",
              "      <td>...</td>\n",
              "      <td>...</td>\n",
              "      <td>...</td>\n",
              "      <td>...</td>\n",
              "      <td>...</td>\n",
              "      <td>...</td>\n",
              "      <td>...</td>\n",
              "      <td>...</td>\n",
              "      <td>...</td>\n",
              "      <td>...</td>\n",
              "      <td>...</td>\n",
              "      <td>...</td>\n",
              "      <td>...</td>\n",
              "      <td>...</td>\n",
              "      <td>...</td>\n",
              "      <td>...</td>\n",
              "      <td>...</td>\n",
              "      <td>...</td>\n",
              "    </tr>\n",
              "    <tr>\n",
              "      <th>5604</th>\n",
              "      <td>2018-06-30</td>\n",
              "      <td>1:00pm</td>\n",
              "      <td>yvonne</td>\n",
              "      <td>chong</td>\n",
              "      <td>yvonne chong</td>\n",
              "      <td>NaN</td>\n",
              "      <td>Location_3</td>\n",
              "      <td>VIC</td>\n",
              "      <td>3033</td>\n",
              "      <td>Location_3</td>\n",
              "      <td>NaN</td>\n",
              "      <td>NaN</td>\n",
              "      <td>209.0</td>\n",
              "      <td>147</td>\n",
              "      <td>356.00</td>\n",
              "      <td>356.00</td>\n",
              "      <td>0.0</td>\n",
              "      <td>0</td>\n",
              "      <td>stripe</td>\n",
              "      <td>1 time service</td>\n",
              "      <td>NaN</td>\n",
              "      <td>0.0</td>\n",
              "      <td>0.00</td>\n",
              "      <td>0</td>\n",
              "      <td>0</td>\n",
              "      <td>1926: Team Dimpal (2P, I)</td>\n",
              "      <td>Team Dimpal (2P, I)</td>\n",
              "      <td>213.60</td>\n",
              "      <td>Team Dimpal (2P, I): 213.60</td>\n",
              "      <td>NaN</td>\n",
              "      <td>NaN</td>\n",
              "      <td>28/06/2018 2:49pm</td>\n",
              "      <td>NaN</td>\n",
              "      <td>NaN</td>\n",
              "      <td>3 Bedrooms, 3 x Bathroom, deep/initial cleanin...</td>\n",
              "      <td>30/06 deep clean, inside windows and balcony p...</td>\n",
              "      <td>NaN</td>\n",
              "      <td>7523</td>\n",
              "      <td>2018</td>\n",
              "    </tr>\n",
              "    <tr>\n",
              "      <th>5605</th>\n",
              "      <td>2018-06-30</td>\n",
              "      <td>1:00pm</td>\n",
              "      <td>Allan</td>\n",
              "      <td>Springall</td>\n",
              "      <td>Allan Springall</td>\n",
              "      <td>NaN</td>\n",
              "      <td>Chifley</td>\n",
              "      <td>NSW</td>\n",
              "      <td>2035</td>\n",
              "      <td>Location_2</td>\n",
              "      <td>NaN</td>\n",
              "      <td>NaN</td>\n",
              "      <td>129.0</td>\n",
              "      <td>199</td>\n",
              "      <td>328.00</td>\n",
              "      <td>328.00</td>\n",
              "      <td>0.0</td>\n",
              "      <td>0</td>\n",
              "      <td>stripe</td>\n",
              "      <td>1 time service</td>\n",
              "      <td>NaN</td>\n",
              "      <td>0.0</td>\n",
              "      <td>0.00</td>\n",
              "      <td>0</td>\n",
              "      <td>0</td>\n",
              "      <td>214: Team Jackson (4T, G)</td>\n",
              "      <td>Team Jackson (4T, G)</td>\n",
              "      <td>213.20</td>\n",
              "      <td>Team Jackson (4T, G): 213.20</td>\n",
              "      <td>Team Jackson (4T, G)</td>\n",
              "      <td>Team Jackson (4T, G)</td>\n",
              "      <td>29/06/2018 2:26pm</td>\n",
              "      <td>NaN</td>\n",
              "      <td>NaN</td>\n",
              "      <td>1 Bedroom, 1 x Bathroom, deep/initial cleaning...</td>\n",
              "      <td>Bathroom is a disability bathroom.  Customer i...</td>\n",
              "      <td>NaN</td>\n",
              "      <td>7541</td>\n",
              "      <td>2018</td>\n",
              "    </tr>\n",
              "    <tr>\n",
              "      <th>5606</th>\n",
              "      <td>2018-06-30</td>\n",
              "      <td>3:00pm</td>\n",
              "      <td>Maya</td>\n",
              "      <td>Wannan</td>\n",
              "      <td>Maya Wannan</td>\n",
              "      <td>NaN</td>\n",
              "      <td>Pyrmont</td>\n",
              "      <td>NSW</td>\n",
              "      <td>2009</td>\n",
              "      <td>Location_2</td>\n",
              "      <td>NaN</td>\n",
              "      <td>NaN</td>\n",
              "      <td>169.0</td>\n",
              "      <td>0</td>\n",
              "      <td>143.65</td>\n",
              "      <td>143.65</td>\n",
              "      <td>0.0</td>\n",
              "      <td>0</td>\n",
              "      <td>stripe</td>\n",
              "      <td>Fortnightly - 15% off</td>\n",
              "      <td>NaN</td>\n",
              "      <td>0.0</td>\n",
              "      <td>25.35</td>\n",
              "      <td>0</td>\n",
              "      <td>0</td>\n",
              "      <td>626: Team Natalie</td>\n",
              "      <td>Team Natalie</td>\n",
              "      <td>93.37</td>\n",
              "      <td>Team Natalie: 93.37</td>\n",
              "      <td>NaN</td>\n",
              "      <td>NaN</td>\n",
              "      <td>06/06/2018 12:25pm</td>\n",
              "      <td>NaN</td>\n",
              "      <td>14/07/2018 3:00pm</td>\n",
              "      <td>2 Bedrooms, 2 x Bathroom</td>\n",
              "      <td>NaN</td>\n",
              "      <td>If possible, we would like the same cleaner as...</td>\n",
              "      <td>7067</td>\n",
              "      <td>2018</td>\n",
              "    </tr>\n",
              "    <tr>\n",
              "      <th>5607</th>\n",
              "      <td>2018-06-30</td>\n",
              "      <td>3:00pm</td>\n",
              "      <td>Jordan</td>\n",
              "      <td>Miralis</td>\n",
              "      <td>Jordan Miralis</td>\n",
              "      <td>NaN</td>\n",
              "      <td>South Yarra</td>\n",
              "      <td>VIC</td>\n",
              "      <td>3141</td>\n",
              "      <td>Location_3</td>\n",
              "      <td>NaN</td>\n",
              "      <td>NaN</td>\n",
              "      <td>129.0</td>\n",
              "      <td>0</td>\n",
              "      <td>129.00</td>\n",
              "      <td>129.00</td>\n",
              "      <td>0.0</td>\n",
              "      <td>0</td>\n",
              "      <td>stripe</td>\n",
              "      <td>1 time service</td>\n",
              "      <td>NaN</td>\n",
              "      <td>0.0</td>\n",
              "      <td>0.00</td>\n",
              "      <td>0</td>\n",
              "      <td>0</td>\n",
              "      <td>1926: Team Dimpal (2P, I)</td>\n",
              "      <td>Team Dimpal (2P, I)</td>\n",
              "      <td>77.40</td>\n",
              "      <td>Team Dimpal (2P, I): 77.40</td>\n",
              "      <td>NaN</td>\n",
              "      <td>NaN</td>\n",
              "      <td>29/06/2018 1:19pm</td>\n",
              "      <td>NaN</td>\n",
              "      <td>NaN</td>\n",
              "      <td>1 Bedroom, 1 x Bathroom</td>\n",
              "      <td>NaN</td>\n",
              "      <td>Just need a dust/wipe down, very small bathroo...</td>\n",
              "      <td>7540</td>\n",
              "      <td>2018</td>\n",
              "    </tr>\n",
              "    <tr>\n",
              "      <th>5608</th>\n",
              "      <td>2018-07-01</td>\n",
              "      <td>10:00am</td>\n",
              "      <td>Ellyse</td>\n",
              "      <td>Toomua</td>\n",
              "      <td>Ellyse Toomua</td>\n",
              "      <td>NaN</td>\n",
              "      <td>Chatswood</td>\n",
              "      <td>NSW</td>\n",
              "      <td>2067</td>\n",
              "      <td>Location_2</td>\n",
              "      <td>NaN</td>\n",
              "      <td>NaN</td>\n",
              "      <td>229.0</td>\n",
              "      <td>0</td>\n",
              "      <td>206.10</td>\n",
              "      <td>206.10</td>\n",
              "      <td>0.0</td>\n",
              "      <td>0</td>\n",
              "      <td>stripe</td>\n",
              "      <td>Monthly - 10% off</td>\n",
              "      <td>NaN</td>\n",
              "      <td>0.0</td>\n",
              "      <td>22.90</td>\n",
              "      <td>0</td>\n",
              "      <td>0</td>\n",
              "      <td>626: Team Natalie</td>\n",
              "      <td>Team Natalie</td>\n",
              "      <td>133.97</td>\n",
              "      <td>Team Natalie: 133.97</td>\n",
              "      <td>NaN</td>\n",
              "      <td>NaN</td>\n",
              "      <td>03/06/2018 12:18am</td>\n",
              "      <td>NaN</td>\n",
              "      <td>29/07/2018 10:00am</td>\n",
              "      <td>4 Bedrooms, 2 x Bathroom</td>\n",
              "      <td>NaN</td>\n",
              "      <td>Could I please request Michael and Nat - 04099...</td>\n",
              "      <td>7007</td>\n",
              "      <td>2018</td>\n",
              "    </tr>\n",
              "  </tbody>\n",
              "</table>\n",
              "<p>5609 rows × 39 columns</p>\n",
              "</div>"
            ],
            "text/plain": [
              "           Date     Time  ... Booking ID  year\n",
              "0    2015-08-05   9:00am  ...          2  2015\n",
              "1    2015-08-08   9:30am  ...          5  2015\n",
              "2    2015-08-12   9:00am  ...          4  2015\n",
              "3    2015-08-14   3:00pm  ...          8  2015\n",
              "4    2015-08-18   9:00am  ...          6  2015\n",
              "...         ...      ...  ...        ...   ...\n",
              "5604 2018-06-30   1:00pm  ...       7523  2018\n",
              "5605 2018-06-30   1:00pm  ...       7541  2018\n",
              "5606 2018-06-30   3:00pm  ...       7067  2018\n",
              "5607 2018-06-30   3:00pm  ...       7540  2018\n",
              "5608 2018-07-01  10:00am  ...       7007  2018\n",
              "\n",
              "[5609 rows x 39 columns]"
            ]
          },
          "metadata": {
            "tags": []
          },
          "execution_count": 9
        }
      ]
    },
    {
      "cell_type": "code",
      "metadata": {
        "id": "iMOSJz8GwmGc",
        "outputId": "ceec63f5-cc14-47a5-df27-d1c5425a62a1",
        "colab": {
          "base_uri": "https://localhost:8080/",
          "height": 34
        }
      },
      "source": [
        "df['Full Name'].nunique()"
      ],
      "execution_count": 13,
      "outputs": [
        {
          "output_type": "execute_result",
          "data": {
            "text/plain": [
              "1701"
            ]
          },
          "metadata": {
            "tags": []
          },
          "execution_count": 13
        }
      ]
    },
    {
      "cell_type": "code",
      "metadata": {
        "id": "dDS6CJq0z-wW",
        "outputId": "adfcd36a-4df2-46d4-ff7c-f68e569cca99",
        "colab": {
          "base_uri": "https://localhost:8080/",
          "height": 450
        }
      },
      "source": [
        "first_payment = df.groupby('Full Name')['Date'].nth(0).sort_values()\n",
        "first_payment = pd.DataFrame(first_payment)\n",
        "first_payment = first_payment.rename({'Date' : 'First Payment'} , axis=1)\n",
        "first_payment\n"
      ],
      "execution_count": 23,
      "outputs": [
        {
          "output_type": "execute_result",
          "data": {
            "text/html": [
              "<div>\n",
              "<style scoped>\n",
              "    .dataframe tbody tr th:only-of-type {\n",
              "        vertical-align: middle;\n",
              "    }\n",
              "\n",
              "    .dataframe tbody tr th {\n",
              "        vertical-align: top;\n",
              "    }\n",
              "\n",
              "    .dataframe thead th {\n",
              "        text-align: right;\n",
              "    }\n",
              "</style>\n",
              "<table border=\"1\" class=\"dataframe\">\n",
              "  <thead>\n",
              "    <tr style=\"text-align: right;\">\n",
              "      <th></th>\n",
              "      <th>First Payment</th>\n",
              "    </tr>\n",
              "    <tr>\n",
              "      <th>Full Name</th>\n",
              "      <th></th>\n",
              "    </tr>\n",
              "  </thead>\n",
              "  <tbody>\n",
              "    <tr>\n",
              "      <th>Rebecca Jenkins</th>\n",
              "      <td>2015-08-05</td>\n",
              "    </tr>\n",
              "    <tr>\n",
              "      <th>Lauren Goss</th>\n",
              "      <td>2015-08-08</td>\n",
              "    </tr>\n",
              "    <tr>\n",
              "      <th>David Shellien</th>\n",
              "      <td>2015-08-14</td>\n",
              "    </tr>\n",
              "    <tr>\n",
              "      <th>Branko Dedich</th>\n",
              "      <td>2015-08-18</td>\n",
              "    </tr>\n",
              "    <tr>\n",
              "      <th>Peter Schafer</th>\n",
              "      <td>2015-08-28</td>\n",
              "    </tr>\n",
              "    <tr>\n",
              "      <th>...</th>\n",
              "      <td>...</td>\n",
              "    </tr>\n",
              "    <tr>\n",
              "      <th>Jordan Miralis</th>\n",
              "      <td>2018-06-30</td>\n",
              "    </tr>\n",
              "    <tr>\n",
              "      <th>Jeramee Rice</th>\n",
              "      <td>2018-06-30</td>\n",
              "    </tr>\n",
              "    <tr>\n",
              "      <th>Gunjan Sen</th>\n",
              "      <td>2018-06-30</td>\n",
              "    </tr>\n",
              "    <tr>\n",
              "      <th>Allan Springall</th>\n",
              "      <td>2018-06-30</td>\n",
              "    </tr>\n",
              "    <tr>\n",
              "      <th>yvonne chong</th>\n",
              "      <td>2018-06-30</td>\n",
              "    </tr>\n",
              "  </tbody>\n",
              "</table>\n",
              "<p>1701 rows × 1 columns</p>\n",
              "</div>"
            ],
            "text/plain": [
              "                First Payment\n",
              "Full Name                    \n",
              "Rebecca Jenkins    2015-08-05\n",
              "Lauren Goss        2015-08-08\n",
              "David Shellien     2015-08-14\n",
              "Branko Dedich      2015-08-18\n",
              "Peter Schafer      2015-08-28\n",
              "...                       ...\n",
              "Jordan Miralis     2018-06-30\n",
              "Jeramee Rice       2018-06-30\n",
              "Gunjan Sen         2018-06-30\n",
              "Allan Springall    2018-06-30\n",
              "yvonne chong       2018-06-30\n",
              "\n",
              "[1701 rows x 1 columns]"
            ]
          },
          "metadata": {
            "tags": []
          },
          "execution_count": 23
        }
      ]
    },
    {
      "cell_type": "code",
      "metadata": {
        "id": "zyU4etRs16SD",
        "outputId": "db39bf99-4f46-40ee-ad49-ba71ea81d621",
        "colab": {
          "base_uri": "https://localhost:8080/",
          "height": 450
        }
      },
      "source": [
        "previous_payment = df.groupby('Full Name')['Date'].nth(-1).sort_values()\n",
        "previous_payment = pd.DataFrame(previous_payment)\n",
        "previous_payment = previous_payment.rename({'Date' : 'Previous Payment'} , axis=1)\n",
        "previous_payment\n"
      ],
      "execution_count": 31,
      "outputs": [
        {
          "output_type": "execute_result",
          "data": {
            "text/html": [
              "<div>\n",
              "<style scoped>\n",
              "    .dataframe tbody tr th:only-of-type {\n",
              "        vertical-align: middle;\n",
              "    }\n",
              "\n",
              "    .dataframe tbody tr th {\n",
              "        vertical-align: top;\n",
              "    }\n",
              "\n",
              "    .dataframe thead th {\n",
              "        text-align: right;\n",
              "    }\n",
              "</style>\n",
              "<table border=\"1\" class=\"dataframe\">\n",
              "  <thead>\n",
              "    <tr style=\"text-align: right;\">\n",
              "      <th></th>\n",
              "      <th>Previous Payment</th>\n",
              "    </tr>\n",
              "    <tr>\n",
              "      <th>Full Name</th>\n",
              "      <th></th>\n",
              "    </tr>\n",
              "  </thead>\n",
              "  <tbody>\n",
              "    <tr>\n",
              "      <th>Lauren Goss</th>\n",
              "      <td>2015-08-08</td>\n",
              "    </tr>\n",
              "    <tr>\n",
              "      <th>David Shellien</th>\n",
              "      <td>2015-08-14</td>\n",
              "    </tr>\n",
              "    <tr>\n",
              "      <th>Branko Dedich</th>\n",
              "      <td>2015-08-18</td>\n",
              "    </tr>\n",
              "    <tr>\n",
              "      <th>Peter Schafer</th>\n",
              "      <td>2015-08-28</td>\n",
              "    </tr>\n",
              "    <tr>\n",
              "      <th>Belinder Coughlan</th>\n",
              "      <td>2015-09-25</td>\n",
              "    </tr>\n",
              "    <tr>\n",
              "      <th>...</th>\n",
              "      <td>...</td>\n",
              "    </tr>\n",
              "    <tr>\n",
              "      <th>Alison Northcote</th>\n",
              "      <td>2018-06-30</td>\n",
              "    </tr>\n",
              "    <tr>\n",
              "      <th>Ken Ransom</th>\n",
              "      <td>2018-06-30</td>\n",
              "    </tr>\n",
              "    <tr>\n",
              "      <th>Leigh Simpkin</th>\n",
              "      <td>2018-06-30</td>\n",
              "    </tr>\n",
              "    <tr>\n",
              "      <th>yvonne chong</th>\n",
              "      <td>2018-06-30</td>\n",
              "    </tr>\n",
              "    <tr>\n",
              "      <th>Ellyse Toomua</th>\n",
              "      <td>2018-07-01</td>\n",
              "    </tr>\n",
              "  </tbody>\n",
              "</table>\n",
              "<p>1701 rows × 1 columns</p>\n",
              "</div>"
            ],
            "text/plain": [
              "                  Previous Payment\n",
              "Full Name                         \n",
              "Lauren Goss             2015-08-08\n",
              "David Shellien          2015-08-14\n",
              "Branko Dedich           2015-08-18\n",
              "Peter Schafer           2015-08-28\n",
              "Belinder Coughlan       2015-09-25\n",
              "...                            ...\n",
              "Alison Northcote        2018-06-30\n",
              "Ken Ransom              2018-06-30\n",
              "Leigh Simpkin           2018-06-30\n",
              "yvonne chong            2018-06-30\n",
              "Ellyse Toomua           2018-07-01\n",
              "\n",
              "[1701 rows x 1 columns]"
            ]
          },
          "metadata": {
            "tags": []
          },
          "execution_count": 31
        }
      ]
    },
    {
      "cell_type": "code",
      "metadata": {
        "id": "cGhXyVo52qmu",
        "outputId": "dae05a88-218d-491f-8737-38d7d0c9f82b",
        "colab": {
          "base_uri": "https://localhost:8080/",
          "height": 450
        }
      },
      "source": [
        "second_payment = df.groupby('Full Name')['Date'].nth(1).sort_values()\n",
        "second_payment = pd.DataFrame(second_payment)\n",
        "second_payment = second_payment.rename({'Date' : 'Second Payment'} , axis=1)\n",
        "second_payment\n"
      ],
      "execution_count": 38,
      "outputs": [
        {
          "output_type": "execute_result",
          "data": {
            "text/html": [
              "<div>\n",
              "<style scoped>\n",
              "    .dataframe tbody tr th:only-of-type {\n",
              "        vertical-align: middle;\n",
              "    }\n",
              "\n",
              "    .dataframe tbody tr th {\n",
              "        vertical-align: top;\n",
              "    }\n",
              "\n",
              "    .dataframe thead th {\n",
              "        text-align: right;\n",
              "    }\n",
              "</style>\n",
              "<table border=\"1\" class=\"dataframe\">\n",
              "  <thead>\n",
              "    <tr style=\"text-align: right;\">\n",
              "      <th></th>\n",
              "      <th>Second Payment</th>\n",
              "    </tr>\n",
              "    <tr>\n",
              "      <th>Full Name</th>\n",
              "      <th></th>\n",
              "    </tr>\n",
              "  </thead>\n",
              "  <tbody>\n",
              "    <tr>\n",
              "      <th>Rebecca Jenkins</th>\n",
              "      <td>2015-08-12</td>\n",
              "    </tr>\n",
              "    <tr>\n",
              "      <th>Rachael Craig</th>\n",
              "      <td>2015-10-15</td>\n",
              "    </tr>\n",
              "    <tr>\n",
              "      <th>Farida Zhakupova</th>\n",
              "      <td>2016-03-05</td>\n",
              "    </tr>\n",
              "    <tr>\n",
              "      <th>Bernadette Thompson</th>\n",
              "      <td>2016-03-12</td>\n",
              "    </tr>\n",
              "    <tr>\n",
              "      <th>Rupert Degas</th>\n",
              "      <td>2016-04-14</td>\n",
              "    </tr>\n",
              "    <tr>\n",
              "      <th>...</th>\n",
              "      <td>...</td>\n",
              "    </tr>\n",
              "    <tr>\n",
              "      <th>Alessandra Centorame</th>\n",
              "      <td>2018-06-28</td>\n",
              "    </tr>\n",
              "    <tr>\n",
              "      <th>Abby Lock</th>\n",
              "      <td>2018-06-28</td>\n",
              "    </tr>\n",
              "    <tr>\n",
              "      <th>Lynne OBrien</th>\n",
              "      <td>2018-06-29</td>\n",
              "    </tr>\n",
              "    <tr>\n",
              "      <th>Alison Northcote</th>\n",
              "      <td>2018-06-30</td>\n",
              "    </tr>\n",
              "    <tr>\n",
              "      <th>Devina Modi</th>\n",
              "      <td>2018-06-30</td>\n",
              "    </tr>\n",
              "  </tbody>\n",
              "</table>\n",
              "<p>606 rows × 1 columns</p>\n",
              "</div>"
            ],
            "text/plain": [
              "                     Second Payment\n",
              "Full Name                          \n",
              "Rebecca Jenkins          2015-08-12\n",
              "Rachael Craig            2015-10-15\n",
              "Farida Zhakupova         2016-03-05\n",
              "Bernadette Thompson      2016-03-12\n",
              "Rupert Degas             2016-04-14\n",
              "...                             ...\n",
              "Alessandra Centorame     2018-06-28\n",
              "Abby Lock                2018-06-28\n",
              "Lynne OBrien             2018-06-29\n",
              "Alison Northcote         2018-06-30\n",
              "Devina Modi              2018-06-30\n",
              "\n",
              "[606 rows x 1 columns]"
            ]
          },
          "metadata": {
            "tags": []
          },
          "execution_count": 38
        }
      ]
    },
    {
      "cell_type": "code",
      "metadata": {
        "id": "emgJTJeZ40qe",
        "outputId": "8c2a92d7-b404-419f-e6ca-03067bc6220c",
        "colab": {
          "base_uri": "https://localhost:8080/",
          "height": 450
        }
      },
      "source": [
        "second_last_payment = df.groupby('Full Name')['Date'].nth(-2).sort_values()\n",
        "second_last_payment = pd.DataFrame(second_last_payment)\n",
        "second_last_payment = second_last_payment.rename({'Date' : 'Second Last Payment'} , axis=1)\n",
        "second_last_payment\n"
      ],
      "execution_count": 40,
      "outputs": [
        {
          "output_type": "execute_result",
          "data": {
            "text/html": [
              "<div>\n",
              "<style scoped>\n",
              "    .dataframe tbody tr th:only-of-type {\n",
              "        vertical-align: middle;\n",
              "    }\n",
              "\n",
              "    .dataframe tbody tr th {\n",
              "        vertical-align: top;\n",
              "    }\n",
              "\n",
              "    .dataframe thead th {\n",
              "        text-align: right;\n",
              "    }\n",
              "</style>\n",
              "<table border=\"1\" class=\"dataframe\">\n",
              "  <thead>\n",
              "    <tr style=\"text-align: right;\">\n",
              "      <th></th>\n",
              "      <th>Second Last Payment</th>\n",
              "    </tr>\n",
              "    <tr>\n",
              "      <th>Full Name</th>\n",
              "      <th></th>\n",
              "    </tr>\n",
              "  </thead>\n",
              "  <tbody>\n",
              "    <tr>\n",
              "      <th>Rebecca Jenkins</th>\n",
              "      <td>2015-11-05</td>\n",
              "    </tr>\n",
              "    <tr>\n",
              "      <th>Sapna Champaneria</th>\n",
              "      <td>2015-12-24</td>\n",
              "    </tr>\n",
              "    <tr>\n",
              "      <th>Rachael Craig</th>\n",
              "      <td>2016-01-19</td>\n",
              "    </tr>\n",
              "    <tr>\n",
              "      <th>Alex Edwards</th>\n",
              "      <td>2016-05-10</td>\n",
              "    </tr>\n",
              "    <tr>\n",
              "      <th>Zara Johnson</th>\n",
              "      <td>2016-05-19</td>\n",
              "    </tr>\n",
              "    <tr>\n",
              "      <th>...</th>\n",
              "      <td>...</td>\n",
              "    </tr>\n",
              "    <tr>\n",
              "      <th>Lara Garrett</th>\n",
              "      <td>2018-06-22</td>\n",
              "    </tr>\n",
              "    <tr>\n",
              "      <th>Jane HART</th>\n",
              "      <td>2018-06-22</td>\n",
              "    </tr>\n",
              "    <tr>\n",
              "      <th>Bosko Ilic</th>\n",
              "      <td>2018-06-22</td>\n",
              "    </tr>\n",
              "    <tr>\n",
              "      <th>Sheree Stiff</th>\n",
              "      <td>2018-06-23</td>\n",
              "    </tr>\n",
              "    <tr>\n",
              "      <th>Survey Dynamics Pty Ltd Contact - Kellie Varrone</th>\n",
              "      <td>2018-06-23</td>\n",
              "    </tr>\n",
              "  </tbody>\n",
              "</table>\n",
              "<p>606 rows × 1 columns</p>\n",
              "</div>"
            ],
            "text/plain": [
              "                                                 Second Last Payment\n",
              "Full Name                                                           \n",
              "Rebecca Jenkins                                           2015-11-05\n",
              "Sapna Champaneria                                         2015-12-24\n",
              "Rachael Craig                                             2016-01-19\n",
              "Alex Edwards                                              2016-05-10\n",
              "Zara Johnson                                              2016-05-19\n",
              "...                                                              ...\n",
              "Lara Garrett                                              2018-06-22\n",
              "Jane HART                                                 2018-06-22\n",
              "Bosko Ilic                                                2018-06-22\n",
              "Sheree Stiff                                              2018-06-23\n",
              "Survey Dynamics Pty Ltd Contact - Kellie Varrone          2018-06-23\n",
              "\n",
              "[606 rows x 1 columns]"
            ]
          },
          "metadata": {
            "tags": []
          },
          "execution_count": 40
        }
      ]
    },
    {
      "cell_type": "code",
      "metadata": {
        "id": "Wlijlx9R6C-M",
        "outputId": "bb6a6a5b-5adb-4878-88ef-d15c3a752478",
        "colab": {
          "base_uri": "https://localhost:8080/",
          "height": 85
        }
      },
      "source": [
        "df['Frequency'].unique()"
      ],
      "execution_count": 47,
      "outputs": [
        {
          "output_type": "execute_result",
          "data": {
            "text/plain": [
              "array(['Every week - 20% off', '1 time service',\n",
              "       'Every 4 weeks - 10% off', 'Every 2 weeks - 15% off',\n",
              "       'Weekly - 15% off', 'Fortnightly - 15% off', 'Monthly - 5% off',\n",
              "       'Weekly - 20% off', 'Monthly - 10% off'], dtype=object)"
            ]
          },
          "metadata": {
            "tags": []
          },
          "execution_count": 47
        }
      ]
    },
    {
      "cell_type": "code",
      "metadata": {
        "id": "I2nAiOV55keM",
        "outputId": "702e9987-1c88-4402-8316-69ea00ad9929",
        "colab": {
          "base_uri": "https://localhost:8080/",
          "height": 1000
        }
      },
      "source": [
        "df[df['Frequency']!='1 time service']"
      ],
      "execution_count": 48,
      "outputs": [
        {
          "output_type": "execute_result",
          "data": {
            "text/html": [
              "<div>\n",
              "<style scoped>\n",
              "    .dataframe tbody tr th:only-of-type {\n",
              "        vertical-align: middle;\n",
              "    }\n",
              "\n",
              "    .dataframe tbody tr th {\n",
              "        vertical-align: top;\n",
              "    }\n",
              "\n",
              "    .dataframe thead th {\n",
              "        text-align: right;\n",
              "    }\n",
              "</style>\n",
              "<table border=\"1\" class=\"dataframe\">\n",
              "  <thead>\n",
              "    <tr style=\"text-align: right;\">\n",
              "      <th></th>\n",
              "      <th>Date</th>\n",
              "      <th>Time</th>\n",
              "      <th>First Name</th>\n",
              "      <th>Last Name</th>\n",
              "      <th>Full Name</th>\n",
              "      <th>Company Name</th>\n",
              "      <th>City</th>\n",
              "      <th>State</th>\n",
              "      <th>Postal Code</th>\n",
              "      <th>Location</th>\n",
              "      <th>Rating Value</th>\n",
              "      <th>Rating Comment</th>\n",
              "      <th>Service Total</th>\n",
              "      <th>Extras Total</th>\n",
              "      <th>Final Amount</th>\n",
              "      <th>Amount Paid by the Customer</th>\n",
              "      <th>Amount Owed by Customer</th>\n",
              "      <th>Tip</th>\n",
              "      <th>Payment Method</th>\n",
              "      <th>Frequency</th>\n",
              "      <th>Discount Code</th>\n",
              "      <th>Discount from Code</th>\n",
              "      <th>Discount from Frequency</th>\n",
              "      <th>Discount from Referral</th>\n",
              "      <th>Giftcard Amount Used</th>\n",
              "      <th>Teams Assigned</th>\n",
              "      <th>Teams Assigned  (without IDs)</th>\n",
              "      <th>Team Earnings (Amount)</th>\n",
              "      <th>Team Earnings (Summary)</th>\n",
              "      <th>Team has Key</th>\n",
              "      <th>Team requested</th>\n",
              "      <th>Date Created</th>\n",
              "      <th>Created By</th>\n",
              "      <th>Next Booking Date</th>\n",
              "      <th>Services</th>\n",
              "      <th>Staff Notes</th>\n",
              "      <th>Customer Notes</th>\n",
              "      <th>Booking ID</th>\n",
              "      <th>year</th>\n",
              "    </tr>\n",
              "  </thead>\n",
              "  <tbody>\n",
              "    <tr>\n",
              "      <th>0</th>\n",
              "      <td>2015-08-05</td>\n",
              "      <td>9:00am</td>\n",
              "      <td>Rebecca</td>\n",
              "      <td>Jenkins</td>\n",
              "      <td>Rebecca Jenkins</td>\n",
              "      <td>NaN</td>\n",
              "      <td>Crows Nest</td>\n",
              "      <td>NSW</td>\n",
              "      <td>2065</td>\n",
              "      <td>Location_2</td>\n",
              "      <td>2.0</td>\n",
              "      <td>We really liked the attitude of our team and t...</td>\n",
              "      <td>142.0</td>\n",
              "      <td>0</td>\n",
              "      <td>113.60</td>\n",
              "      <td>113.60</td>\n",
              "      <td>0.0</td>\n",
              "      <td>0</td>\n",
              "      <td>stripe</td>\n",
              "      <td>Every week - 20% off</td>\n",
              "      <td>NaN</td>\n",
              "      <td>0.0</td>\n",
              "      <td>28.40</td>\n",
              "      <td>0</td>\n",
              "      <td>0</td>\n",
              "      <td>5: Team Kawhara (G)</td>\n",
              "      <td>Team Kawhara (G)</td>\n",
              "      <td>68.16</td>\n",
              "      <td>Team Kawhara (G): 68.16</td>\n",
              "      <td>NaN</td>\n",
              "      <td>NaN</td>\n",
              "      <td>31/07/2015 5:06pm</td>\n",
              "      <td>NaN</td>\n",
              "      <td>12/08/2015 9:00am</td>\n",
              "      <td>2 Bedrooms, 1 x Bathroom</td>\n",
              "      <td>NaN</td>\n",
              "      <td>NaN</td>\n",
              "      <td>2</td>\n",
              "      <td>2015</td>\n",
              "    </tr>\n",
              "    <tr>\n",
              "      <th>2</th>\n",
              "      <td>2015-08-12</td>\n",
              "      <td>9:00am</td>\n",
              "      <td>Rebecca</td>\n",
              "      <td>Jenkins</td>\n",
              "      <td>Rebecca Jenkins</td>\n",
              "      <td>NaN</td>\n",
              "      <td>Crows Nest</td>\n",
              "      <td>NSW</td>\n",
              "      <td>2065</td>\n",
              "      <td>Location_2</td>\n",
              "      <td>2.0</td>\n",
              "      <td>Our team did a v thorough job. Thank you.</td>\n",
              "      <td>142.0</td>\n",
              "      <td>0</td>\n",
              "      <td>113.60</td>\n",
              "      <td>113.60</td>\n",
              "      <td>0.0</td>\n",
              "      <td>0</td>\n",
              "      <td>stripe</td>\n",
              "      <td>Every week - 20% off</td>\n",
              "      <td>NaN</td>\n",
              "      <td>0.0</td>\n",
              "      <td>28.40</td>\n",
              "      <td>0</td>\n",
              "      <td>0</td>\n",
              "      <td>5: Team Kawhara (G)</td>\n",
              "      <td>Team Kawhara (G)</td>\n",
              "      <td>68.16</td>\n",
              "      <td>Team Kawhara (G): 68.16</td>\n",
              "      <td>Team Kawhara (G)</td>\n",
              "      <td>NaN</td>\n",
              "      <td>06/08/2015 12:28am</td>\n",
              "      <td>NaN</td>\n",
              "      <td>19/08/2015 9:00am</td>\n",
              "      <td>2 Bedrooms, 1 x Bathroom</td>\n",
              "      <td>Customer has left the key inside an envelope i...</td>\n",
              "      <td>NaN</td>\n",
              "      <td>4</td>\n",
              "      <td>2015</td>\n",
              "    </tr>\n",
              "    <tr>\n",
              "      <th>5</th>\n",
              "      <td>2015-08-19</td>\n",
              "      <td>9:00am</td>\n",
              "      <td>Rebecca</td>\n",
              "      <td>Jenkins</td>\n",
              "      <td>Rebecca Jenkins</td>\n",
              "      <td>NaN</td>\n",
              "      <td>Crows Nest</td>\n",
              "      <td>NSW</td>\n",
              "      <td>2065</td>\n",
              "      <td>Location_2</td>\n",
              "      <td>NaN</td>\n",
              "      <td>NaN</td>\n",
              "      <td>142.0</td>\n",
              "      <td>0</td>\n",
              "      <td>113.60</td>\n",
              "      <td>113.60</td>\n",
              "      <td>0.0</td>\n",
              "      <td>0</td>\n",
              "      <td>stripe</td>\n",
              "      <td>Every week - 20% off</td>\n",
              "      <td>NaN</td>\n",
              "      <td>0.0</td>\n",
              "      <td>28.40</td>\n",
              "      <td>0</td>\n",
              "      <td>0</td>\n",
              "      <td>5: Team Kawhara (G)</td>\n",
              "      <td>Team Kawhara (G)</td>\n",
              "      <td>68.16</td>\n",
              "      <td>Team Kawhara (G): 68.16</td>\n",
              "      <td>Team Kawhara (G)</td>\n",
              "      <td>NaN</td>\n",
              "      <td>13/08/2015 12:19am</td>\n",
              "      <td>NaN</td>\n",
              "      <td>26/08/2015 9:00am</td>\n",
              "      <td>2 Bedrooms, 1 x Bathroom</td>\n",
              "      <td>Customer has left the key inside an envelope i...</td>\n",
              "      <td>NaN</td>\n",
              "      <td>7</td>\n",
              "      <td>2015</td>\n",
              "    </tr>\n",
              "    <tr>\n",
              "      <th>6</th>\n",
              "      <td>2015-08-26</td>\n",
              "      <td>9:00am</td>\n",
              "      <td>Rebecca</td>\n",
              "      <td>Jenkins</td>\n",
              "      <td>Rebecca Jenkins</td>\n",
              "      <td>NaN</td>\n",
              "      <td>Crows Nest</td>\n",
              "      <td>NSW</td>\n",
              "      <td>2065</td>\n",
              "      <td>Location_2</td>\n",
              "      <td>NaN</td>\n",
              "      <td>NaN</td>\n",
              "      <td>142.0</td>\n",
              "      <td>0</td>\n",
              "      <td>113.60</td>\n",
              "      <td>113.60</td>\n",
              "      <td>0.0</td>\n",
              "      <td>0</td>\n",
              "      <td>stripe</td>\n",
              "      <td>Every week - 20% off</td>\n",
              "      <td>NaN</td>\n",
              "      <td>0.0</td>\n",
              "      <td>28.40</td>\n",
              "      <td>0</td>\n",
              "      <td>0</td>\n",
              "      <td>5: Team Kawhara (G)</td>\n",
              "      <td>Team Kawhara (G)</td>\n",
              "      <td>68.16</td>\n",
              "      <td>Team Kawhara (G): 68.16</td>\n",
              "      <td>Team Kawhara (G)</td>\n",
              "      <td>NaN</td>\n",
              "      <td>20/08/2015 12:21am</td>\n",
              "      <td>NaN</td>\n",
              "      <td>09/09/2015 9:00am</td>\n",
              "      <td>2 Bedrooms, 1 x Bathroom</td>\n",
              "      <td>Customer has left the key inside an envelope i...</td>\n",
              "      <td>NaN</td>\n",
              "      <td>10</td>\n",
              "      <td>2015</td>\n",
              "    </tr>\n",
              "    <tr>\n",
              "      <th>8</th>\n",
              "      <td>2015-09-09</td>\n",
              "      <td>9:00am</td>\n",
              "      <td>Rebecca</td>\n",
              "      <td>Jenkins</td>\n",
              "      <td>Rebecca Jenkins</td>\n",
              "      <td>NaN</td>\n",
              "      <td>Crows Nest</td>\n",
              "      <td>NSW</td>\n",
              "      <td>2065</td>\n",
              "      <td>Location_2</td>\n",
              "      <td>NaN</td>\n",
              "      <td>NaN</td>\n",
              "      <td>142.0</td>\n",
              "      <td>0</td>\n",
              "      <td>113.60</td>\n",
              "      <td>113.60</td>\n",
              "      <td>0.0</td>\n",
              "      <td>0</td>\n",
              "      <td>stripe</td>\n",
              "      <td>Every week - 20% off</td>\n",
              "      <td>NaN</td>\n",
              "      <td>0.0</td>\n",
              "      <td>28.40</td>\n",
              "      <td>0</td>\n",
              "      <td>0</td>\n",
              "      <td>5: Team Kawhara (G)</td>\n",
              "      <td>Team Kawhara (G)</td>\n",
              "      <td>68.16</td>\n",
              "      <td>Team Kawhara (G): 68.16</td>\n",
              "      <td>Team Kawhara (G)</td>\n",
              "      <td>NaN</td>\n",
              "      <td>02/09/2015 1:59pm</td>\n",
              "      <td>NaN</td>\n",
              "      <td>19/09/2015 9:00am</td>\n",
              "      <td>2 Bedrooms, 1 x Bathroom</td>\n",
              "      <td>Customer has left the key inside an envelope i...</td>\n",
              "      <td>NaN</td>\n",
              "      <td>14</td>\n",
              "      <td>2015</td>\n",
              "    </tr>\n",
              "    <tr>\n",
              "      <th>...</th>\n",
              "      <td>...</td>\n",
              "      <td>...</td>\n",
              "      <td>...</td>\n",
              "      <td>...</td>\n",
              "      <td>...</td>\n",
              "      <td>...</td>\n",
              "      <td>...</td>\n",
              "      <td>...</td>\n",
              "      <td>...</td>\n",
              "      <td>...</td>\n",
              "      <td>...</td>\n",
              "      <td>...</td>\n",
              "      <td>...</td>\n",
              "      <td>...</td>\n",
              "      <td>...</td>\n",
              "      <td>...</td>\n",
              "      <td>...</td>\n",
              "      <td>...</td>\n",
              "      <td>...</td>\n",
              "      <td>...</td>\n",
              "      <td>...</td>\n",
              "      <td>...</td>\n",
              "      <td>...</td>\n",
              "      <td>...</td>\n",
              "      <td>...</td>\n",
              "      <td>...</td>\n",
              "      <td>...</td>\n",
              "      <td>...</td>\n",
              "      <td>...</td>\n",
              "      <td>...</td>\n",
              "      <td>...</td>\n",
              "      <td>...</td>\n",
              "      <td>...</td>\n",
              "      <td>...</td>\n",
              "      <td>...</td>\n",
              "      <td>...</td>\n",
              "      <td>...</td>\n",
              "      <td>...</td>\n",
              "      <td>...</td>\n",
              "    </tr>\n",
              "    <tr>\n",
              "      <th>5600</th>\n",
              "      <td>2018-06-30</td>\n",
              "      <td>12:00pm</td>\n",
              "      <td>Sheree</td>\n",
              "      <td>Stiff</td>\n",
              "      <td>Sheree Stiff</td>\n",
              "      <td>NaN</td>\n",
              "      <td>Greenwich</td>\n",
              "      <td>NSW</td>\n",
              "      <td>2065</td>\n",
              "      <td>Location_2</td>\n",
              "      <td>NaN</td>\n",
              "      <td>NaN</td>\n",
              "      <td>189.0</td>\n",
              "      <td>0</td>\n",
              "      <td>151.20</td>\n",
              "      <td>151.20</td>\n",
              "      <td>0.0</td>\n",
              "      <td>0</td>\n",
              "      <td>stripe</td>\n",
              "      <td>Weekly - 20% off</td>\n",
              "      <td>NaN</td>\n",
              "      <td>0.0</td>\n",
              "      <td>37.80</td>\n",
              "      <td>0</td>\n",
              "      <td>0</td>\n",
              "      <td>214: Team Jackson (4T, G)</td>\n",
              "      <td>Team Jackson (4T, G)</td>\n",
              "      <td>98.28</td>\n",
              "      <td>Team Jackson (4T, G): 98.28</td>\n",
              "      <td>NaN</td>\n",
              "      <td>NaN</td>\n",
              "      <td>24/06/2018 12:16am</td>\n",
              "      <td>NaN</td>\n",
              "      <td>07/07/2018 12:00pm</td>\n",
              "      <td>3 Bedrooms, 2 x Bathroom</td>\n",
              "      <td>NaN</td>\n",
              "      <td>Hi\\nI have noted we will leave a key under the...</td>\n",
              "      <td>7443</td>\n",
              "      <td>2018</td>\n",
              "    </tr>\n",
              "    <tr>\n",
              "      <th>5602</th>\n",
              "      <td>2018-06-30</td>\n",
              "      <td>1:00pm</td>\n",
              "      <td>Alison</td>\n",
              "      <td>Northcote</td>\n",
              "      <td>Alison Northcote</td>\n",
              "      <td>NaN</td>\n",
              "      <td>Neutral Bay</td>\n",
              "      <td>NSW</td>\n",
              "      <td>2089</td>\n",
              "      <td>Location_2</td>\n",
              "      <td>NaN</td>\n",
              "      <td>NaN</td>\n",
              "      <td>135.0</td>\n",
              "      <td>0</td>\n",
              "      <td>114.75</td>\n",
              "      <td>114.75</td>\n",
              "      <td>0.0</td>\n",
              "      <td>0</td>\n",
              "      <td>stripe</td>\n",
              "      <td>Fortnightly - 15% off</td>\n",
              "      <td>NaN</td>\n",
              "      <td>0.0</td>\n",
              "      <td>20.25</td>\n",
              "      <td>0</td>\n",
              "      <td>0</td>\n",
              "      <td>214: Team Jackson (4T, G)</td>\n",
              "      <td>Team Jackson (4T, G)</td>\n",
              "      <td>74.59</td>\n",
              "      <td>Team Jackson (4T, G): 74.59</td>\n",
              "      <td>NaN</td>\n",
              "      <td>NaN</td>\n",
              "      <td>15/06/2018 12:19am</td>\n",
              "      <td>NaN</td>\n",
              "      <td>13/07/2018 1:00pm</td>\n",
              "      <td>Hourly Service (2 Cleaners x 1.50 Hours)</td>\n",
              "      <td>IMPORTANT ** 30/06 Jackson please ask your tea...</td>\n",
              "      <td>NaN</td>\n",
              "      <td>7256</td>\n",
              "      <td>2018</td>\n",
              "    </tr>\n",
              "    <tr>\n",
              "      <th>5603</th>\n",
              "      <td>2018-06-30</td>\n",
              "      <td>1:00pm</td>\n",
              "      <td>Sacha</td>\n",
              "      <td>Gregory</td>\n",
              "      <td>Sacha Gregory</td>\n",
              "      <td>NaN</td>\n",
              "      <td>Location_2</td>\n",
              "      <td>NSW</td>\n",
              "      <td>2037</td>\n",
              "      <td>Location_2</td>\n",
              "      <td>NaN</td>\n",
              "      <td>NaN</td>\n",
              "      <td>180.0</td>\n",
              "      <td>0</td>\n",
              "      <td>153.00</td>\n",
              "      <td>153.00</td>\n",
              "      <td>0.0</td>\n",
              "      <td>0</td>\n",
              "      <td>stripe</td>\n",
              "      <td>Fortnightly - 15% off</td>\n",
              "      <td>NaN</td>\n",
              "      <td>0.0</td>\n",
              "      <td>27.00</td>\n",
              "      <td>0</td>\n",
              "      <td>0</td>\n",
              "      <td>214: Team Jackson (4T, G)</td>\n",
              "      <td>Team Jackson (4T, G)</td>\n",
              "      <td>116.28</td>\n",
              "      <td>Team Jackson (4T, G): 116.28</td>\n",
              "      <td>NaN</td>\n",
              "      <td>NaN</td>\n",
              "      <td>17/06/2018 12:22am</td>\n",
              "      <td>NaN</td>\n",
              "      <td>14/07/2018 1:00pm</td>\n",
              "      <td>Hourly Service (2 Cleaners x 2.00 Hours)</td>\n",
              "      <td>***Please work down the list pending on time**...</td>\n",
              "      <td>The key has been left in the electricity box b...</td>\n",
              "      <td>7299</td>\n",
              "      <td>2018</td>\n",
              "    </tr>\n",
              "    <tr>\n",
              "      <th>5606</th>\n",
              "      <td>2018-06-30</td>\n",
              "      <td>3:00pm</td>\n",
              "      <td>Maya</td>\n",
              "      <td>Wannan</td>\n",
              "      <td>Maya Wannan</td>\n",
              "      <td>NaN</td>\n",
              "      <td>Pyrmont</td>\n",
              "      <td>NSW</td>\n",
              "      <td>2009</td>\n",
              "      <td>Location_2</td>\n",
              "      <td>NaN</td>\n",
              "      <td>NaN</td>\n",
              "      <td>169.0</td>\n",
              "      <td>0</td>\n",
              "      <td>143.65</td>\n",
              "      <td>143.65</td>\n",
              "      <td>0.0</td>\n",
              "      <td>0</td>\n",
              "      <td>stripe</td>\n",
              "      <td>Fortnightly - 15% off</td>\n",
              "      <td>NaN</td>\n",
              "      <td>0.0</td>\n",
              "      <td>25.35</td>\n",
              "      <td>0</td>\n",
              "      <td>0</td>\n",
              "      <td>626: Team Natalie</td>\n",
              "      <td>Team Natalie</td>\n",
              "      <td>93.37</td>\n",
              "      <td>Team Natalie: 93.37</td>\n",
              "      <td>NaN</td>\n",
              "      <td>NaN</td>\n",
              "      <td>06/06/2018 12:25pm</td>\n",
              "      <td>NaN</td>\n",
              "      <td>14/07/2018 3:00pm</td>\n",
              "      <td>2 Bedrooms, 2 x Bathroom</td>\n",
              "      <td>NaN</td>\n",
              "      <td>If possible, we would like the same cleaner as...</td>\n",
              "      <td>7067</td>\n",
              "      <td>2018</td>\n",
              "    </tr>\n",
              "    <tr>\n",
              "      <th>5608</th>\n",
              "      <td>2018-07-01</td>\n",
              "      <td>10:00am</td>\n",
              "      <td>Ellyse</td>\n",
              "      <td>Toomua</td>\n",
              "      <td>Ellyse Toomua</td>\n",
              "      <td>NaN</td>\n",
              "      <td>Chatswood</td>\n",
              "      <td>NSW</td>\n",
              "      <td>2067</td>\n",
              "      <td>Location_2</td>\n",
              "      <td>NaN</td>\n",
              "      <td>NaN</td>\n",
              "      <td>229.0</td>\n",
              "      <td>0</td>\n",
              "      <td>206.10</td>\n",
              "      <td>206.10</td>\n",
              "      <td>0.0</td>\n",
              "      <td>0</td>\n",
              "      <td>stripe</td>\n",
              "      <td>Monthly - 10% off</td>\n",
              "      <td>NaN</td>\n",
              "      <td>0.0</td>\n",
              "      <td>22.90</td>\n",
              "      <td>0</td>\n",
              "      <td>0</td>\n",
              "      <td>626: Team Natalie</td>\n",
              "      <td>Team Natalie</td>\n",
              "      <td>133.97</td>\n",
              "      <td>Team Natalie: 133.97</td>\n",
              "      <td>NaN</td>\n",
              "      <td>NaN</td>\n",
              "      <td>03/06/2018 12:18am</td>\n",
              "      <td>NaN</td>\n",
              "      <td>29/07/2018 10:00am</td>\n",
              "      <td>4 Bedrooms, 2 x Bathroom</td>\n",
              "      <td>NaN</td>\n",
              "      <td>Could I please request Michael and Nat - 04099...</td>\n",
              "      <td>7007</td>\n",
              "      <td>2018</td>\n",
              "    </tr>\n",
              "  </tbody>\n",
              "</table>\n",
              "<p>4067 rows × 39 columns</p>\n",
              "</div>"
            ],
            "text/plain": [
              "           Date     Time  ... Booking ID  year\n",
              "0    2015-08-05   9:00am  ...          2  2015\n",
              "2    2015-08-12   9:00am  ...          4  2015\n",
              "5    2015-08-19   9:00am  ...          7  2015\n",
              "6    2015-08-26   9:00am  ...         10  2015\n",
              "8    2015-09-09   9:00am  ...         14  2015\n",
              "...         ...      ...  ...        ...   ...\n",
              "5600 2018-06-30  12:00pm  ...       7443  2018\n",
              "5602 2018-06-30   1:00pm  ...       7256  2018\n",
              "5603 2018-06-30   1:00pm  ...       7299  2018\n",
              "5606 2018-06-30   3:00pm  ...       7067  2018\n",
              "5608 2018-07-01  10:00am  ...       7007  2018\n",
              "\n",
              "[4067 rows x 39 columns]"
            ]
          },
          "metadata": {
            "tags": []
          },
          "execution_count": 48
        }
      ]
    },
    {
      "cell_type": "code",
      "metadata": {
        "id": "cYwpPTKJ67tv",
        "outputId": "15e12a06-4e2b-4d8c-9709-467fd65378ac",
        "colab": {
          "base_uri": "https://localhost:8080/",
          "height": 119
        }
      },
      "source": [
        "Revenue = df.groupby('year')['Amount Paid by the Customer'].sum()\n",
        "#Revenue = pd.DataFrame(Revenue)\n",
        "Revenue"
      ],
      "execution_count": 60,
      "outputs": [
        {
          "output_type": "execute_result",
          "data": {
            "text/plain": [
              "year\n",
              "2015      4163.20\n",
              "2016    111271.68\n",
              "2017    431737.12\n",
              "2018    460272.61\n",
              "Name: Amount Paid by the Customer, dtype: float64"
            ]
          },
          "metadata": {
            "tags": []
          },
          "execution_count": 60
        }
      ]
    },
    {
      "cell_type": "code",
      "metadata": {
        "id": "gv4mRmuU7OPi",
        "outputId": "1d97535d-621b-48f2-debe-2e30db26ed89",
        "colab": {
          "base_uri": "https://localhost:8080/",
          "height": 282
        }
      },
      "source": [
        "plt.plot(Revenue)"
      ],
      "execution_count": 61,
      "outputs": [
        {
          "output_type": "execute_result",
          "data": {
            "text/plain": [
              "[<matplotlib.lines.Line2D at 0x7f254a3dbf28>]"
            ]
          },
          "metadata": {
            "tags": []
          },
          "execution_count": 61
        },
        {
          "output_type": "display_data",
          "data": {
            "image/png": "[encoded data removed]",
            "text/plain": [
              "<Figure size 432x288 with 1 Axes>"
            ]
          },
          "metadata": {
            "tags": [],
            "needs_background": "light"
          }
        }
      ]
    },
    {
      "cell_type": "code",
      "metadata": {
        "id": "xLMJlbqM7XVq",
        "outputId": "5ab3da55-d759-45eb-82a5-b917050f1cdf",
        "colab": {
          "base_uri": "https://localhost:8080/",
          "height": 119
        }
      },
      "source": [
        "df1 = df.drop_duplicates(subset = [\"Full Name\"])\n",
        "Unique_Customer = df1.groupby('year')['Full Name'].size()\n",
        "#Unique_Customer = pd.DataFrame(Unique_Customer)\n",
        "Unique_Customer\n"
      ],
      "execution_count": 59,
      "outputs": [
        {
          "output_type": "execute_result",
          "data": {
            "text/plain": [
              "year\n",
              "2015     11\n",
              "2016    246\n",
              "2017    809\n",
              "2018    635\n",
              "Name: Full Name, dtype: int64"
            ]
          },
          "metadata": {
            "tags": []
          },
          "execution_count": 59
        }
      ]
    },
    {
      "cell_type": "code",
      "metadata": {
        "id": "8thBykak8VHs",
        "outputId": "8b52ea11-a78c-462d-f436-06c7b2d67ead",
        "colab": {
          "base_uri": "https://localhost:8080/",
          "height": 282
        }
      },
      "source": [
        "plt.plot(Unique_Customer)\n"
      ],
      "execution_count": 62,
      "outputs": [
        {
          "output_type": "execute_result",
          "data": {
            "text/plain": [
              "[<matplotlib.lines.Line2D at 0x7f254a6a31d0>]"
            ]
          },
          "metadata": {
            "tags": []
          },
          "execution_count": 62
        },
        {
          "output_type": "display_data",
          "data": {
            "image/png": "[encoded data removed]",
            "text/plain": [
              "<Figure size 432x288 with 1 Axes>"
            ]
          },
          "metadata": {
            "tags": [],
            "needs_background": "light"
          }
        }
      ]
    },
    {
      "cell_type": "code",
      "metadata": {
        "id": "E7Vvz0gd8wOL",
        "outputId": "6584eb6a-8a28-4ce2-803e-823ede5eed69",
        "colab": {
          "base_uri": "https://localhost:8080/",
          "height": 119
        }
      },
      "source": [
        "Revenue_per_visit = Revenue/Unique_Customer\n",
        "Revenue_per_visit"
      ],
      "execution_count": 63,
      "outputs": [
        {
          "output_type": "execute_result",
          "data": {
            "text/plain": [
              "year\n",
              "2015    378.472727\n",
              "2016    452.323902\n",
              "2017    533.667639\n",
              "2018    724.838756\n",
              "dtype: float64"
            ]
          },
          "metadata": {
            "tags": []
          },
          "execution_count": 63
        }
      ]
    },
    {
      "cell_type": "code",
      "metadata": {
        "id": "5t-59E-G9QuH",
        "outputId": "3b98391f-455c-4cc5-cdb8-abf383a492f7",
        "colab": {
          "base_uri": "https://localhost:8080/",
          "height": 282
        }
      },
      "source": [
        "plt.plot(Revenue_per_visit)"
      ],
      "execution_count": 64,
      "outputs": [
        {
          "output_type": "execute_result",
          "data": {
            "text/plain": [
              "[<matplotlib.lines.Line2D at 0x7f254a48f748>]"
            ]
          },
          "metadata": {
            "tags": []
          },
          "execution_count": 64
        },
        {
          "output_type": "display_data",
          "data": {
            "image/png": "[encoded data removed]",
            "text/plain": [
              "<Figure size 432x288 with 1 Axes>"
            ]
          },
          "metadata": {
            "tags": [],
            "needs_background": "light"
          }
        }
      ]
    },
    {
      "cell_type": "code",
      "metadata": {
        "id": "w9rrc-w8-mwm",
        "outputId": "fbe7ac53-ff89-4506-d3bb-c7fcc509a770",
        "colab": {
          "base_uri": "https://localhost:8080/",
          "height": 700
        }
      },
      "source": [
        "df1 = df.drop_duplicates(subset = [\"Full Name\"])\n",
        "df1.head()"
      ],
      "execution_count": 110,
      "outputs": [
        {
          "output_type": "execute_result",
          "data": {
            "text/html": [
              "<div>\n",
              "<style scoped>\n",
              "    .dataframe tbody tr th:only-of-type {\n",
              "        vertical-align: middle;\n",
              "    }\n",
              "\n",
              "    .dataframe tbody tr th {\n",
              "        vertical-align: top;\n",
              "    }\n",
              "\n",
              "    .dataframe thead th {\n",
              "        text-align: right;\n",
              "    }\n",
              "</style>\n",
              "<table border=\"1\" class=\"dataframe\">\n",
              "  <thead>\n",
              "    <tr style=\"text-align: right;\">\n",
              "      <th></th>\n",
              "      <th>Date</th>\n",
              "      <th>Time</th>\n",
              "      <th>First Name</th>\n",
              "      <th>Last Name</th>\n",
              "      <th>Full Name</th>\n",
              "      <th>Company Name</th>\n",
              "      <th>City</th>\n",
              "      <th>State</th>\n",
              "      <th>Postal Code</th>\n",
              "      <th>Location</th>\n",
              "      <th>Rating Value</th>\n",
              "      <th>Rating Comment</th>\n",
              "      <th>Service Total</th>\n",
              "      <th>Extras Total</th>\n",
              "      <th>Final Amount</th>\n",
              "      <th>Amount Paid by the Customer</th>\n",
              "      <th>Amount Owed by Customer</th>\n",
              "      <th>Tip</th>\n",
              "      <th>Payment Method</th>\n",
              "      <th>Frequency</th>\n",
              "      <th>Discount Code</th>\n",
              "      <th>Discount from Code</th>\n",
              "      <th>Discount from Frequency</th>\n",
              "      <th>Discount from Referral</th>\n",
              "      <th>Giftcard Amount Used</th>\n",
              "      <th>Teams Assigned</th>\n",
              "      <th>Teams Assigned  (without IDs)</th>\n",
              "      <th>Team Earnings (Amount)</th>\n",
              "      <th>Team Earnings (Summary)</th>\n",
              "      <th>Team has Key</th>\n",
              "      <th>Team requested</th>\n",
              "      <th>Date Created</th>\n",
              "      <th>Created By</th>\n",
              "      <th>Next Booking Date</th>\n",
              "      <th>Services</th>\n",
              "      <th>Staff Notes</th>\n",
              "      <th>Customer Notes</th>\n",
              "      <th>Booking ID</th>\n",
              "      <th>year</th>\n",
              "    </tr>\n",
              "  </thead>\n",
              "  <tbody>\n",
              "    <tr>\n",
              "      <th>0</th>\n",
              "      <td>2015-08-05</td>\n",
              "      <td>9:00am</td>\n",
              "      <td>Rebecca</td>\n",
              "      <td>Jenkins</td>\n",
              "      <td>Rebecca Jenkins</td>\n",
              "      <td>NaN</td>\n",
              "      <td>Crows Nest</td>\n",
              "      <td>NSW</td>\n",
              "      <td>2065</td>\n",
              "      <td>Location_2</td>\n",
              "      <td>2.0</td>\n",
              "      <td>We really liked the attitude of our team and t...</td>\n",
              "      <td>142.0</td>\n",
              "      <td>0</td>\n",
              "      <td>113.6</td>\n",
              "      <td>113.6</td>\n",
              "      <td>0.0</td>\n",
              "      <td>0</td>\n",
              "      <td>stripe</td>\n",
              "      <td>Every week - 20% off</td>\n",
              "      <td>NaN</td>\n",
              "      <td>0.0</td>\n",
              "      <td>28.4</td>\n",
              "      <td>0</td>\n",
              "      <td>0</td>\n",
              "      <td>5: Team Kawhara (G)</td>\n",
              "      <td>Team Kawhara (G)</td>\n",
              "      <td>68.16</td>\n",
              "      <td>Team Kawhara (G): 68.16</td>\n",
              "      <td>NaN</td>\n",
              "      <td>NaN</td>\n",
              "      <td>31/07/2015 5:06pm</td>\n",
              "      <td>NaN</td>\n",
              "      <td>12/08/2015 9:00am</td>\n",
              "      <td>2 Bedrooms, 1 x Bathroom</td>\n",
              "      <td>NaN</td>\n",
              "      <td>NaN</td>\n",
              "      <td>2</td>\n",
              "      <td>2015</td>\n",
              "    </tr>\n",
              "    <tr>\n",
              "      <th>1</th>\n",
              "      <td>2015-08-08</td>\n",
              "      <td>9:30am</td>\n",
              "      <td>Lauren</td>\n",
              "      <td>Goss</td>\n",
              "      <td>Lauren Goss</td>\n",
              "      <td>NaN</td>\n",
              "      <td>Cremorne</td>\n",
              "      <td>NSW</td>\n",
              "      <td>2090</td>\n",
              "      <td>Location_2</td>\n",
              "      <td>NaN</td>\n",
              "      <td>NaN</td>\n",
              "      <td>122.0</td>\n",
              "      <td>30</td>\n",
              "      <td>119.0</td>\n",
              "      <td>119.0</td>\n",
              "      <td>0.0</td>\n",
              "      <td>0</td>\n",
              "      <td>stripe</td>\n",
              "      <td>1 time service</td>\n",
              "      <td>NaN</td>\n",
              "      <td>0.0</td>\n",
              "      <td>0.0</td>\n",
              "      <td>0</td>\n",
              "      <td>0</td>\n",
              "      <td>5: Team Kawhara (G)</td>\n",
              "      <td>Team Kawhara (G)</td>\n",
              "      <td>71.40</td>\n",
              "      <td>Team Kawhara (G): 71.40</td>\n",
              "      <td>NaN</td>\n",
              "      <td>NaN</td>\n",
              "      <td>06/08/2015 7:07pm</td>\n",
              "      <td>NaN</td>\n",
              "      <td>NaN</td>\n",
              "      <td>1 Bedroom, 1 x Bathroom, 1 x Inside the oven +$30</td>\n",
              "      <td>Balcony cleaned as well. call the customers 20...</td>\n",
              "      <td>NaN</td>\n",
              "      <td>5</td>\n",
              "      <td>2015</td>\n",
              "    </tr>\n",
              "    <tr>\n",
              "      <th>3</th>\n",
              "      <td>2015-08-14</td>\n",
              "      <td>3:00pm</td>\n",
              "      <td>David</td>\n",
              "      <td>Shellien</td>\n",
              "      <td>David Shellien</td>\n",
              "      <td>NaN</td>\n",
              "      <td>LANE COVE</td>\n",
              "      <td>NSW</td>\n",
              "      <td>2066</td>\n",
              "      <td>Location_2</td>\n",
              "      <td>NaN</td>\n",
              "      <td>NaN</td>\n",
              "      <td>162.0</td>\n",
              "      <td>0</td>\n",
              "      <td>162.0</td>\n",
              "      <td>162.0</td>\n",
              "      <td>0.0</td>\n",
              "      <td>0</td>\n",
              "      <td>stripe</td>\n",
              "      <td>1 time service</td>\n",
              "      <td>NaN</td>\n",
              "      <td>0.0</td>\n",
              "      <td>0.0</td>\n",
              "      <td>0</td>\n",
              "      <td>0</td>\n",
              "      <td>5: Team Kawhara (G)</td>\n",
              "      <td>Team Kawhara (G)</td>\n",
              "      <td>97.20</td>\n",
              "      <td>Team Kawhara (G): 97.20</td>\n",
              "      <td>NaN</td>\n",
              "      <td>NaN</td>\n",
              "      <td>13/08/2015 3:50pm</td>\n",
              "      <td>NaN</td>\n",
              "      <td>NaN</td>\n",
              "      <td>3 Bedrooms, 1 x Bathroom</td>\n",
              "      <td>NaN</td>\n",
              "      <td>NaN</td>\n",
              "      <td>8</td>\n",
              "      <td>2015</td>\n",
              "    </tr>\n",
              "    <tr>\n",
              "      <th>4</th>\n",
              "      <td>2015-08-18</td>\n",
              "      <td>9:00am</td>\n",
              "      <td>Branko</td>\n",
              "      <td>Dedich</td>\n",
              "      <td>Branko Dedich</td>\n",
              "      <td>NaN</td>\n",
              "      <td>Gladesville</td>\n",
              "      <td>NSW</td>\n",
              "      <td>2111</td>\n",
              "      <td>Location_2</td>\n",
              "      <td>1.0</td>\n",
              "      <td>NaN</td>\n",
              "      <td>122.0</td>\n",
              "      <td>169</td>\n",
              "      <td>250.0</td>\n",
              "      <td>250.0</td>\n",
              "      <td>0.0</td>\n",
              "      <td>0</td>\n",
              "      <td>stripe</td>\n",
              "      <td>1 time service</td>\n",
              "      <td>NaN</td>\n",
              "      <td>0.0</td>\n",
              "      <td>0.0</td>\n",
              "      <td>0</td>\n",
              "      <td>0</td>\n",
              "      <td>5: Team Kawhara (G)</td>\n",
              "      <td>Team Kawhara (G)</td>\n",
              "      <td>150.00</td>\n",
              "      <td>Team Kawhara (G): 150.00</td>\n",
              "      <td>NaN</td>\n",
              "      <td>NaN</td>\n",
              "      <td>12/08/2015 3:16pm</td>\n",
              "      <td>NaN</td>\n",
              "      <td>NaN</td>\n",
              "      <td>1 Bedroom, 1 x Bathroom, Inside kitchen cabine...</td>\n",
              "      <td>Branko will be onsite during clean\\n\\nJob Deta...</td>\n",
              "      <td>NaN</td>\n",
              "      <td>6</td>\n",
              "      <td>2015</td>\n",
              "    </tr>\n",
              "    <tr>\n",
              "      <th>7</th>\n",
              "      <td>2015-08-28</td>\n",
              "      <td>9:00am</td>\n",
              "      <td>Peter</td>\n",
              "      <td>Schafer</td>\n",
              "      <td>Peter Schafer</td>\n",
              "      <td>NaN</td>\n",
              "      <td>Penrith</td>\n",
              "      <td>NSW</td>\n",
              "      <td>2750</td>\n",
              "      <td>Location_2</td>\n",
              "      <td>NaN</td>\n",
              "      <td>NaN</td>\n",
              "      <td>185.0</td>\n",
              "      <td>0</td>\n",
              "      <td>600.0</td>\n",
              "      <td>600.0</td>\n",
              "      <td>0.0</td>\n",
              "      <td>0</td>\n",
              "      <td>check</td>\n",
              "      <td>1 time service</td>\n",
              "      <td>NaN</td>\n",
              "      <td>0.0</td>\n",
              "      <td>0.0</td>\n",
              "      <td>0</td>\n",
              "      <td>0</td>\n",
              "      <td>5: Team Kawhara (G)</td>\n",
              "      <td>Team Kawhara (G)</td>\n",
              "      <td>360.00</td>\n",
              "      <td>Team Kawhara (G): 360.00</td>\n",
              "      <td>NaN</td>\n",
              "      <td>NaN</td>\n",
              "      <td>21/08/2015 1:51pm</td>\n",
              "      <td>NaN</td>\n",
              "      <td>NaN</td>\n",
              "      <td>3 Bedrooms, 2 x Bathroom</td>\n",
              "      <td>Customer will be on site during clean\\n\\nFull ...</td>\n",
              "      <td>NaN</td>\n",
              "      <td>12</td>\n",
              "      <td>2015</td>\n",
              "    </tr>\n",
              "  </tbody>\n",
              "</table>\n",
              "</div>"
            ],
            "text/plain": [
              "        Date    Time First Name  ... Customer Notes Booking ID  year\n",
              "0 2015-08-05  9:00am    Rebecca  ...            NaN          2  2015\n",
              "1 2015-08-08  9:30am     Lauren  ...            NaN          5  2015\n",
              "3 2015-08-14  3:00pm      David  ...            NaN          8  2015\n",
              "4 2015-08-18  9:00am     Branko  ...            NaN          6  2015\n",
              "7 2015-08-28  9:00am      Peter  ...            NaN         12  2015\n",
              "\n",
              "[5 rows x 39 columns]"
            ]
          },
          "metadata": {
            "tags": []
          },
          "execution_count": 110
        }
      ]
    },
    {
      "cell_type": "code",
      "metadata": {
        "id": "56MPO_PS-r16",
        "outputId": "e2167512-763b-4596-832b-458e393a45e3",
        "colab": {
          "base_uri": "https://localhost:8080/",
          "height": 632
        }
      },
      "source": [
        "plt.figure(figsize=(100,50))\n",
        "sns.countplot(x = 'Date'  , data = df1, orient = 90)"
      ],
      "execution_count": 70,
      "outputs": [
        {
          "output_type": "execute_result",
          "data": {
            "text/plain": [
              "<matplotlib.axes._subplots.AxesSubplot at 0x7f253ffa5898>"
            ]
          },
          "metadata": {
            "tags": []
          },
          "execution_count": 70
        },
        {
          "output_type": "display_data",
          "data": {
            "image/png": "[encoded data removed]",
            "text/plain": [
              "<Figure size 7200x3600 with 1 Axes>"
            ]
          },
          "metadata": {
            "tags": [],
            "needs_background": "light"
          }
        }
      ]
    },
    {
      "cell_type": "code",
      "metadata": {
        "id": "_9CC3QxnExBd",
        "outputId": "b0607424-b90d-4ca4-f71b-0ce4c3234354",
        "colab": {
          "base_uri": "https://localhost:8080/",
          "height": 34
        }
      },
      "source": [
        "df15=df1[df1['year']==2015]\n",
        "len(df15)"
      ],
      "execution_count": 71,
      "outputs": [
        {
          "output_type": "execute_result",
          "data": {
            "text/plain": [
              "11"
            ]
          },
          "metadata": {
            "tags": []
          },
          "execution_count": 71
        }
      ]
    },
    {
      "cell_type": "code",
      "metadata": {
        "id": "uc6Ty-PhF4hn",
        "outputId": "f8ce5537-c706-411d-a703-a639ed4f7611",
        "colab": {
          "base_uri": "https://localhost:8080/",
          "height": 34
        }
      },
      "source": [
        "len(df15[df15['Frequency']=='1 time service'])"
      ],
      "execution_count": 75,
      "outputs": [
        {
          "output_type": "execute_result",
          "data": {
            "text/plain": [
              "10"
            ]
          },
          "metadata": {
            "tags": []
          },
          "execution_count": 75
        }
      ]
    },
    {
      "cell_type": "code",
      "metadata": {
        "id": "UjdxQrHJGUAp",
        "outputId": "15263842-ce0a-4652-a04b-e43c16fb4186",
        "colab": {
          "base_uri": "https://localhost:8080/",
          "height": 34
        }
      },
      "source": [
        "df16=df1[df1['year']==2016]\n",
        "len(df16)"
      ],
      "execution_count": 72,
      "outputs": [
        {
          "output_type": "execute_result",
          "data": {
            "text/plain": [
              "246"
            ]
          },
          "metadata": {
            "tags": []
          },
          "execution_count": 72
        }
      ]
    },
    {
      "cell_type": "code",
      "metadata": {
        "id": "j70e8vnLGghy",
        "outputId": "15bcd817-80fa-409f-9bda-efd51f32503d",
        "colab": {
          "base_uri": "https://localhost:8080/",
          "height": 34
        }
      },
      "source": [
        "len(df16[df16['Frequency']=='1 time service'])"
      ],
      "execution_count": 76,
      "outputs": [
        {
          "output_type": "execute_result",
          "data": {
            "text/plain": [
              "183"
            ]
          },
          "metadata": {
            "tags": []
          },
          "execution_count": 76
        }
      ]
    },
    {
      "cell_type": "code",
      "metadata": {
        "id": "zjRCjYOlGYRC",
        "outputId": "af35463d-8b84-43a8-84f5-d7eab6dee459",
        "colab": {
          "base_uri": "https://localhost:8080/",
          "height": 34
        }
      },
      "source": [
        "df17=df1[df1['year']==2017]\n",
        "len(df17)"
      ],
      "execution_count": 73,
      "outputs": [
        {
          "output_type": "execute_result",
          "data": {
            "text/plain": [
              "809"
            ]
          },
          "metadata": {
            "tags": []
          },
          "execution_count": 73
        }
      ]
    },
    {
      "cell_type": "code",
      "metadata": {
        "id": "PkSRjNpOGhVE",
        "outputId": "b4070add-7035-429c-baf3-41dda3f83566",
        "colab": {
          "base_uri": "https://localhost:8080/",
          "height": 34
        }
      },
      "source": [
        "len(df17[df17['Frequency']=='1 time service'])"
      ],
      "execution_count": 77,
      "outputs": [
        {
          "output_type": "execute_result",
          "data": {
            "text/plain": [
              "568"
            ]
          },
          "metadata": {
            "tags": []
          },
          "execution_count": 77
        }
      ]
    },
    {
      "cell_type": "code",
      "metadata": {
        "id": "9UCuWSazGbeI",
        "outputId": "1e42dd52-8009-4845-e6e9-00f878905f44",
        "colab": {
          "base_uri": "https://localhost:8080/",
          "height": 34
        }
      },
      "source": [
        "df18=df1[df1['year']==2018]\n",
        "len(df18)"
      ],
      "execution_count": 74,
      "outputs": [
        {
          "output_type": "execute_result",
          "data": {
            "text/plain": [
              "635"
            ]
          },
          "metadata": {
            "tags": []
          },
          "execution_count": 74
        }
      ]
    },
    {
      "cell_type": "code",
      "metadata": {
        "id": "70E8vvRcGiDQ",
        "outputId": "aa9d14b8-6184-4e4b-88ec-7a2f7df22f96",
        "colab": {
          "base_uri": "https://localhost:8080/",
          "height": 34
        }
      },
      "source": [
        "len(df18[df18['Frequency']=='1 time service'])"
      ],
      "execution_count": 87,
      "outputs": [
        {
          "output_type": "execute_result",
          "data": {
            "text/plain": [
              "405"
            ]
          },
          "metadata": {
            "tags": []
          },
          "execution_count": 87
        }
      ]
    },
    {
      "cell_type": "code",
      "metadata": {
        "id": "mimS4AuCKXg2",
        "outputId": "6ebe4e0e-d308-4060-b90f-73f80e44ef00",
        "colab": {
          "base_uri": "https://localhost:8080/",
          "height": 34
        }
      },
      "source": [
        "#Average Purchase Value\n",
        "\n",
        "total_revenue = df['Amount Paid by the Customer'].sum()\n",
        "total_revenue/5609\n"
      ],
      "execution_count": 84,
      "outputs": [
        {
          "output_type": "execute_result",
          "data": {
            "text/plain": [
              "179.61216081297917"
            ]
          },
          "metadata": {
            "tags": []
          },
          "execution_count": 84
        }
      ]
    },
    {
      "cell_type": "code",
      "metadata": {
        "id": "n_WX9FEYLmbH",
        "outputId": "c30adc7a-70cd-4fce-b4a1-43659449eae9",
        "colab": {
          "base_uri": "https://localhost:8080/",
          "height": 34
        }
      },
      "source": [
        "#Average Purchase Freq Rate\n",
        "# no. of purchase/no. of customer\n",
        "\n",
        "5609/1701"
      ],
      "execution_count": 85,
      "outputs": [
        {
          "output_type": "execute_result",
          "data": {
            "text/plain": [
              "3.297472075249853"
            ]
          },
          "metadata": {
            "tags": []
          },
          "execution_count": 85
        }
      ]
    },
    {
      "cell_type": "code",
      "metadata": {
        "id": "IZqOutO3LQ5c",
        "outputId": "d8d42db9-9cc6-43ad-f09c-8a73d685870f",
        "colab": {
          "base_uri": "https://localhost:8080/",
          "height": 34
        }
      },
      "source": [
        "#Customer Value\n",
        "\n",
        "179.61/3.29"
      ],
      "execution_count": 86,
      "outputs": [
        {
          "output_type": "execute_result",
          "data": {
            "text/plain": [
              "54.59270516717326"
            ]
          },
          "metadata": {
            "tags": []
          },
          "execution_count": 86
        }
      ]
    },
    {
      "cell_type": "markdown",
      "metadata": {
        "id": "jWelqrALNfVr"
      },
      "source": [
        "### *Last*\n"
      ]
    },
    {
      "cell_type": "code",
      "metadata": {
        "id": "PVT5oxGX_JwE",
        "outputId": "dd3ff36a-f83c-4bd1-ad9a-e2c3868b5e04",
        "colab": {
          "base_uri": "https://localhost:8080/",
          "height": 34
        }
      },
      "source": [
        "df2=df[df['year']==2015]\n",
        "len(df2)"
      ],
      "execution_count": 67,
      "outputs": [
        {
          "output_type": "execute_result",
          "data": {
            "text/plain": [
              "25"
            ]
          },
          "metadata": {
            "tags": []
          },
          "execution_count": 67
        }
      ]
    },
    {
      "cell_type": "code",
      "metadata": {
        "id": "HFRYH6VjAtiw",
        "outputId": "05b6f329-89a8-422e-dac0-0f5d733173a8",
        "colab": {
          "base_uri": "https://localhost:8080/",
          "height": 34
        }
      },
      "source": [
        "df3 = df2.drop_duplicates(subset = [\"Full Name\"])\n",
        "len(df3)"
      ],
      "execution_count": 88,
      "outputs": [
        {
          "output_type": "execute_result",
          "data": {
            "text/plain": [
              "11"
            ]
          },
          "metadata": {
            "tags": []
          },
          "execution_count": 88
        }
      ]
    },
    {
      "cell_type": "code",
      "metadata": {
        "id": "IVsmft95A6fm",
        "outputId": "d8be6443-93a0-4161-d219-1132d45940ea",
        "colab": {
          "base_uri": "https://localhost:8080/",
          "height": 34
        }
      },
      "source": [
        "len(df3[df3['Frequency']=='1 time service'])"
      ],
      "execution_count": 90,
      "outputs": [
        {
          "output_type": "execute_result",
          "data": {
            "text/plain": [
              "10"
            ]
          },
          "metadata": {
            "tags": []
          },
          "execution_count": 90
        }
      ]
    },
    {
      "cell_type": "code",
      "metadata": {
        "id": "OwWpf8bYBOmn",
        "outputId": "fc68316e-a5b2-4766-af72-44d804382702",
        "colab": {
          "base_uri": "https://localhost:8080/",
          "height": 34
        }
      },
      "source": [
        "df5=df[df['year']==2016]\n",
        "len(df5)"
      ],
      "execution_count": 91,
      "outputs": [
        {
          "output_type": "execute_result",
          "data": {
            "text/plain": [
              "561"
            ]
          },
          "metadata": {
            "tags": []
          },
          "execution_count": 91
        }
      ]
    },
    {
      "cell_type": "code",
      "metadata": {
        "id": "O2-tffCIBaNE",
        "outputId": "66b354eb-5da5-4a35-d511-d5805c058324",
        "colab": {
          "base_uri": "https://localhost:8080/",
          "height": 34
        }
      },
      "source": [
        "df6 = df5.drop_duplicates(subset = [\"Full Name\"])\n",
        "len(df6)"
      ],
      "execution_count": 93,
      "outputs": [
        {
          "output_type": "execute_result",
          "data": {
            "text/plain": [
              "248"
            ]
          },
          "metadata": {
            "tags": []
          },
          "execution_count": 93
        }
      ]
    },
    {
      "cell_type": "code",
      "metadata": {
        "id": "I_HZJtznBfof",
        "outputId": "b34b54a6-d45a-4f8d-c85b-4711bae23ffb",
        "colab": {
          "base_uri": "https://localhost:8080/",
          "height": 34
        }
      },
      "source": [
        "len(df6[df6['Frequency']=='1 time service'])"
      ],
      "execution_count": 94,
      "outputs": [
        {
          "output_type": "execute_result",
          "data": {
            "text/plain": [
              "184"
            ]
          },
          "metadata": {
            "tags": []
          },
          "execution_count": 94
        }
      ]
    },
    {
      "cell_type": "code",
      "metadata": {
        "id": "AT5YtKgwBm17",
        "outputId": "84edf514-fc25-4bab-c5ae-b75f78568e6d",
        "colab": {
          "base_uri": "https://localhost:8080/",
          "height": 34
        }
      },
      "source": [
        "df8=df[df['year']==2017]\n",
        "len(df8)"
      ],
      "execution_count": 95,
      "outputs": [
        {
          "output_type": "execute_result",
          "data": {
            "text/plain": [
              "2374"
            ]
          },
          "metadata": {
            "tags": []
          },
          "execution_count": 95
        }
      ]
    },
    {
      "cell_type": "code",
      "metadata": {
        "id": "JWjXqaWEBvEj",
        "outputId": "fedb1e9d-348d-462b-86e2-cd87c87d3ff5",
        "colab": {
          "base_uri": "https://localhost:8080/",
          "height": 34
        }
      },
      "source": [
        "df9 = df8.drop_duplicates(subset = [\"Full Name\"])\n",
        "len(df9)"
      ],
      "execution_count": 96,
      "outputs": [
        {
          "output_type": "execute_result",
          "data": {
            "text/plain": [
              "863"
            ]
          },
          "metadata": {
            "tags": []
          },
          "execution_count": 96
        }
      ]
    },
    {
      "cell_type": "code",
      "metadata": {
        "id": "hsLbEG0QB0IA",
        "outputId": "4e802f0b-7b11-4d85-c3ee-5a07f0adda39",
        "colab": {
          "base_uri": "https://localhost:8080/",
          "height": 34
        }
      },
      "source": [
        "len(df9[df9['Frequency']=='1 time service'])"
      ],
      "execution_count": 97,
      "outputs": [
        {
          "output_type": "execute_result",
          "data": {
            "text/plain": [
              "586"
            ]
          },
          "metadata": {
            "tags": []
          },
          "execution_count": 97
        }
      ]
    },
    {
      "cell_type": "code",
      "metadata": {
        "id": "BsSA8klUB-LB",
        "outputId": "e81746ba-1da3-43fc-d011-7542669cc875",
        "colab": {
          "base_uri": "https://localhost:8080/",
          "height": 34
        }
      },
      "source": [
        "df11=df[df['year']==2018]\n",
        "len(df11)"
      ],
      "execution_count": 98,
      "outputs": [
        {
          "output_type": "execute_result",
          "data": {
            "text/plain": [
              "2649"
            ]
          },
          "metadata": {
            "tags": []
          },
          "execution_count": 98
        }
      ]
    },
    {
      "cell_type": "code",
      "metadata": {
        "id": "johXLii5B4UP",
        "outputId": "14a07377-fac2-4236-c2f6-a555c8be337a",
        "colab": {
          "base_uri": "https://localhost:8080/",
          "height": 34
        }
      },
      "source": [
        "df12 = df11.drop_duplicates(subset = [\"Full Name\"])\n",
        "\n",
        "len(df12)"
      ],
      "execution_count": 99,
      "outputs": [
        {
          "output_type": "execute_result",
          "data": {
            "text/plain": [
              "841"
            ]
          },
          "metadata": {
            "tags": []
          },
          "execution_count": 99
        }
      ]
    },
    {
      "cell_type": "code",
      "metadata": {
        "id": "Bw4R3Ew5CchK",
        "outputId": "41ad8cca-0d42-427d-c0a4-6a2a35694240",
        "colab": {
          "base_uri": "https://localhost:8080/",
          "height": 34
        }
      },
      "source": [
        "len(df12[df12['Frequency']=='1 time service'])"
      ],
      "execution_count": 100,
      "outputs": [
        {
          "output_type": "execute_result",
          "data": {
            "text/plain": [
              "465"
            ]
          },
          "metadata": {
            "tags": []
          },
          "execution_count": 100
        }
      ]
    },
    {
      "cell_type": "code",
      "metadata": {
        "id": "QypLh5_XPxw1",
        "outputId": "a5a76503-ca84-4613-f836-85961ecc79a9",
        "colab": {
          "base_uri": "https://localhost:8080/",
          "height": 281
        }
      },
      "source": [
        "x = [2015 , 2016, 2017, 2018]\n",
        "y = [1, 64 , 277 , 376]\n",
        "plt.bar(x , y)\n",
        "plt.title('Active Customer', \n",
        "             loc ='left', )\n",
        "plt.show()\n"
      ],
      "execution_count": 107,
      "outputs": [
        {
          "output_type": "display_data",
          "data": {
            "image/png": "[encoded data removed]",
            "text/plain": [
              "<Figure size 432x288 with 1 Axes>"
            ]
          },
          "metadata": {
            "tags": [],
            "needs_background": "light"
          }
        }
      ]
    },
    {
      "cell_type": "code",
      "metadata": {
        "id": "_pBg7nuzQbIQ",
        "outputId": "a8c21afb-c8be-477b-c949-039daef682de",
        "colab": {
          "base_uri": "https://localhost:8080/",
          "height": 281
        }
      },
      "source": [
        "x = [2015 , 2016, 2017, 2018]\n",
        "y = [10, 184 , 586, 465]\n",
        "plt.bar(x , y)\n",
        "plt.title('Lost Customer', \n",
        "             loc ='left', )\n",
        "plt.show()"
      ],
      "execution_count": 108,
      "outputs": [
        {
          "output_type": "display_data",
          "data": {
            "image/png": "[encoded data removed]",
            "text/plain": [
              "<Figure size 432x288 with 1 Axes>"
            ]
          },
          "metadata": {
            "tags": [],
            "needs_background": "light"
          }
        }
      ]
    }
  ]
}